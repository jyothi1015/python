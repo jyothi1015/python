{
 "cells": [
  {
   "cell_type": "code",
   "execution_count": 1,
   "id": "6acf146f",
   "metadata": {},
   "outputs": [
    {
     "data": {
      "text/plain": [
       "['__add__',\n",
       " '__class__',\n",
       " '__contains__',\n",
       " '__delattr__',\n",
       " '__dir__',\n",
       " '__doc__',\n",
       " '__eq__',\n",
       " '__format__',\n",
       " '__ge__',\n",
       " '__getattribute__',\n",
       " '__getitem__',\n",
       " '__getnewargs__',\n",
       " '__gt__',\n",
       " '__hash__',\n",
       " '__init__',\n",
       " '__init_subclass__',\n",
       " '__iter__',\n",
       " '__le__',\n",
       " '__len__',\n",
       " '__lt__',\n",
       " '__mod__',\n",
       " '__mul__',\n",
       " '__ne__',\n",
       " '__new__',\n",
       " '__reduce__',\n",
       " '__reduce_ex__',\n",
       " '__repr__',\n",
       " '__rmod__',\n",
       " '__rmul__',\n",
       " '__setattr__',\n",
       " '__sizeof__',\n",
       " '__str__',\n",
       " '__subclasshook__',\n",
       " 'capitalize',\n",
       " 'casefold',\n",
       " 'center',\n",
       " 'count',\n",
       " 'encode',\n",
       " 'endswith',\n",
       " 'expandtabs',\n",
       " 'find',\n",
       " 'format',\n",
       " 'format_map',\n",
       " 'index',\n",
       " 'isalnum',\n",
       " 'isalpha',\n",
       " 'isascii',\n",
       " 'isdecimal',\n",
       " 'isdigit',\n",
       " 'isidentifier',\n",
       " 'islower',\n",
       " 'isnumeric',\n",
       " 'isprintable',\n",
       " 'isspace',\n",
       " 'istitle',\n",
       " 'isupper',\n",
       " 'join',\n",
       " 'ljust',\n",
       " 'lower',\n",
       " 'lstrip',\n",
       " 'maketrans',\n",
       " 'partition',\n",
       " 'removeprefix',\n",
       " 'removesuffix',\n",
       " 'replace',\n",
       " 'rfind',\n",
       " 'rindex',\n",
       " 'rjust',\n",
       " 'rpartition',\n",
       " 'rsplit',\n",
       " 'rstrip',\n",
       " 'split',\n",
       " 'splitlines',\n",
       " 'startswith',\n",
       " 'strip',\n",
       " 'swapcase',\n",
       " 'title',\n",
       " 'translate',\n",
       " 'upper',\n",
       " 'zfill']"
      ]
     },
     "execution_count": 1,
     "metadata": {},
     "output_type": "execute_result"
    }
   ],
   "source": [
    "dir(str)"
   ]
  },
  {
   "cell_type": "code",
   "execution_count": 2,
   "id": "66c0151c",
   "metadata": {},
   "outputs": [
    {
     "data": {
      "text/plain": [
       "['__add__',\n",
       " '__class__',\n",
       " '__class_getitem__',\n",
       " '__contains__',\n",
       " '__delattr__',\n",
       " '__delitem__',\n",
       " '__dir__',\n",
       " '__doc__',\n",
       " '__eq__',\n",
       " '__format__',\n",
       " '__ge__',\n",
       " '__getattribute__',\n",
       " '__getitem__',\n",
       " '__gt__',\n",
       " '__hash__',\n",
       " '__iadd__',\n",
       " '__imul__',\n",
       " '__init__',\n",
       " '__init_subclass__',\n",
       " '__iter__',\n",
       " '__le__',\n",
       " '__len__',\n",
       " '__lt__',\n",
       " '__mul__',\n",
       " '__ne__',\n",
       " '__new__',\n",
       " '__reduce__',\n",
       " '__reduce_ex__',\n",
       " '__repr__',\n",
       " '__reversed__',\n",
       " '__rmul__',\n",
       " '__setattr__',\n",
       " '__setitem__',\n",
       " '__sizeof__',\n",
       " '__str__',\n",
       " '__subclasshook__',\n",
       " 'append',\n",
       " 'clear',\n",
       " 'copy',\n",
       " 'count',\n",
       " 'extend',\n",
       " 'index',\n",
       " 'insert',\n",
       " 'pop',\n",
       " 'remove',\n",
       " 'reverse',\n",
       " 'sort']"
      ]
     },
     "execution_count": 2,
     "metadata": {},
     "output_type": "execute_result"
    }
   ],
   "source": [
    "dir(list)"
   ]
  },
  {
   "cell_type": "code",
   "execution_count": 3,
   "id": "ba1cc7ea",
   "metadata": {},
   "outputs": [
    {
     "name": "stdout",
     "output_type": "stream",
     "text": [
      "[3, 6, 7, 9, 'jyothi']\n",
      "['dhana', 'valli', 'mahi', 34, 78]\n",
      "['mahi', 'snehaja', 55, 13]\n"
     ]
    }
   ],
   "source": [
    "li=[3,6,7,9,'jyothi']\n",
    "li1=['dhana','valli','mahi',34,78]\n",
    "li2=['mahi','snehaja',55,13]\n",
    "print(li)\n",
    "print(li1)\n",
    "print(li2)"
   ]
  },
  {
   "cell_type": "code",
   "execution_count": 4,
   "id": "af91b5f2",
   "metadata": {},
   "outputs": [
    {
     "name": "stdout",
     "output_type": "stream",
     "text": [
      "[3, 6, 7, 9, 'jyothi']\n"
     ]
    }
   ],
   "source": [
    "# append - we will add only single value \n",
    "# extend - we vill add more than one value using extend\n",
    "print(li)"
   ]
  },
  {
   "cell_type": "code",
   "execution_count": 6,
   "id": "593d7816",
   "metadata": {},
   "outputs": [
    {
     "data": {
      "text/plain": [
       "[3, 6, 7, 9, 'jyothi', 13, 13]"
      ]
     },
     "execution_count": 6,
     "metadata": {},
     "output_type": "execute_result"
    }
   ],
   "source": [
    "li.append(13)\n",
    "li"
   ]
  },
  {
   "cell_type": "code",
   "execution_count": 7,
   "id": "0a07ec9e",
   "metadata": {},
   "outputs": [
    {
     "data": {
      "text/plain": [
       "[3, 6, 7, 9, 'jyothi', 13, 13, 34, 78]"
      ]
     },
     "execution_count": 7,
     "metadata": {},
     "output_type": "execute_result"
    }
   ],
   "source": [
    "li.extend([34,78])\n",
    "li"
   ]
  },
  {
   "cell_type": "code",
   "execution_count": 8,
   "id": "1769c3ff",
   "metadata": {},
   "outputs": [
    {
     "name": "stdout",
     "output_type": "stream",
     "text": [
      "['dhana', 'valli', 'mahi', 34, 78]\n"
     ]
    }
   ],
   "source": [
    "print(li1)"
   ]
  },
  {
   "cell_type": "code",
   "execution_count": 9,
   "id": "2dd2923d",
   "metadata": {},
   "outputs": [
    {
     "name": "stdout",
     "output_type": "stream",
     "text": [
      "['dhana', 'jessy', 'valli']\n"
     ]
    }
   ],
   "source": [
    "li=['dhana','jessy','valli','mahi']\n",
    "li.pop()\n",
    "print(li)"
   ]
  },
  {
   "cell_type": "code",
   "execution_count": 10,
   "id": "69e74971",
   "metadata": {},
   "outputs": [
    {
     "name": "stdout",
     "output_type": "stream",
     "text": [
      "['valli', 'jessy', 'dhana']\n"
     ]
    }
   ],
   "source": [
    "li.reverse()\n",
    "print(li)"
   ]
  },
  {
   "cell_type": "code",
   "execution_count": 11,
   "id": "01652189",
   "metadata": {},
   "outputs": [
    {
     "name": "stdout",
     "output_type": "stream",
     "text": [
      "['dhana', 'jessy', 'valli']\n"
     ]
    }
   ],
   "source": [
    "li.sort()\n",
    "print(li)"
   ]
  },
  {
   "cell_type": "code",
   "execution_count": 12,
   "id": "be62ec9e",
   "metadata": {},
   "outputs": [
    {
     "name": "stdout",
     "output_type": "stream",
     "text": [
      "[1, 3, 32, 87, 89]\n"
     ]
    }
   ],
   "source": [
    "li=[3,87,32,1,89]\n",
    "li.sort()\n",
    "print(li)"
   ]
  },
  {
   "cell_type": "code",
   "execution_count": 13,
   "id": "64b3ff31",
   "metadata": {},
   "outputs": [
    {
     "name": "stdout",
     "output_type": "stream",
     "text": [
      "[]\n"
     ]
    }
   ],
   "source": [
    "li.clear()\n",
    "print(li)"
   ]
  },
  {
   "cell_type": "code",
   "execution_count": 15,
   "id": "70394359",
   "metadata": {},
   "outputs": [
    {
     "name": "stdout",
     "output_type": "stream",
     "text": [
      "[3, 6, 4, 2, 9]\n"
     ]
    }
   ],
   "source": [
    "li=[3,6,4,2]\n",
    "li.insert(4,9)\n",
    "print(li)"
   ]
  },
  {
   "cell_type": "code",
   "execution_count": 25,
   "id": "97e9210a",
   "metadata": {},
   "outputs": [
    {
     "name": "stdout",
     "output_type": "stream",
     "text": [
      "[2, 4, 6, 8, 10]\n",
      "[1, 3, 5, 7, 9]\n",
      "[2, 4, 6, 8, 10, 1, 3, 5, 7, 9]\n"
     ]
    }
   ],
   "source": [
    "# 0-10 range\n",
    "# program\n",
    "# print even numbers\n",
    "# print odd numbers\n",
    "# print resul (total numbers(0-10))\n",
    "ev=[]\n",
    "od=[]\n",
    "result=[]\n",
    "for i in range(1,11):\n",
    "    if i%2==0:\n",
    "        ev.append(i)\n",
    "    else:\n",
    "        od.append(i)\n",
    "print(ev)\n",
    "print(od)\n",
    "print(ev+od)"
   ]
  },
  {
   "cell_type": "code",
   "execution_count": 27,
   "id": "d15f7a83",
   "metadata": {},
   "outputs": [
    {
     "name": "stdout",
     "output_type": "stream",
     "text": [
      "\n",
      "largest value: 999\n"
     ]
    }
   ],
   "source": [
    "si=[34,78,37,90,204,400,45,567,999]\n",
    "# print largest value\n",
    "high=0\n",
    "for i in si:\n",
    "    if i>=high:\n",
    "        high=i\n",
    "print(\"\\nlargest value:\",high)"
   ]
  },
  {
   "cell_type": "markdown",
   "id": "6da8c069",
   "metadata": {},
   "source": [
    "## tuple\n",
    "- tuple represented vth()"
   ]
  },
  {
   "cell_type": "code",
   "execution_count": 10,
   "id": "a614abfe",
   "metadata": {},
   "outputs": [],
   "source": [
    "t=(1,2,3,4)"
   ]
  },
  {
   "cell_type": "code",
   "execution_count": 3,
   "id": "76900ba7",
   "metadata": {},
   "outputs": [
    {
     "name": "stdout",
     "output_type": "stream",
     "text": [
      "<class 'tuple'>\n"
     ]
    }
   ],
   "source": [
    "print(type(t))"
   ]
  },
  {
   "cell_type": "code",
   "execution_count": 4,
   "id": "647a18ba",
   "metadata": {},
   "outputs": [
    {
     "data": {
      "text/plain": [
       "['__add__',\n",
       " '__class__',\n",
       " '__class_getitem__',\n",
       " '__contains__',\n",
       " '__delattr__',\n",
       " '__dir__',\n",
       " '__doc__',\n",
       " '__eq__',\n",
       " '__format__',\n",
       " '__ge__',\n",
       " '__getattribute__',\n",
       " '__getitem__',\n",
       " '__getnewargs__',\n",
       " '__gt__',\n",
       " '__hash__',\n",
       " '__init__',\n",
       " '__init_subclass__',\n",
       " '__iter__',\n",
       " '__le__',\n",
       " '__len__',\n",
       " '__lt__',\n",
       " '__mul__',\n",
       " '__ne__',\n",
       " '__new__',\n",
       " '__reduce__',\n",
       " '__reduce_ex__',\n",
       " '__repr__',\n",
       " '__rmul__',\n",
       " '__setattr__',\n",
       " '__sizeof__',\n",
       " '__str__',\n",
       " '__subclasshook__',\n",
       " 'count',\n",
       " 'index']"
      ]
     },
     "execution_count": 4,
     "metadata": {},
     "output_type": "execute_result"
    }
   ],
   "source": [
    "dir(tuple)"
   ]
  },
  {
   "cell_type": "code",
   "execution_count": 6,
   "id": "543c1bef",
   "metadata": {},
   "outputs": [
    {
     "data": {
      "text/plain": [
       "1"
      ]
     },
     "execution_count": 6,
     "metadata": {},
     "output_type": "execute_result"
    }
   ],
   "source": [
    "t.count(7)"
   ]
  },
  {
   "cell_type": "code",
   "execution_count": 12,
   "id": "ce061578",
   "metadata": {},
   "outputs": [
    {
     "data": {
      "text/plain": [
       "1"
      ]
     },
     "execution_count": 12,
     "metadata": {},
     "output_type": "execute_result"
    }
   ],
   "source": [
    "t.index(2)"
   ]
  },
  {
   "cell_type": "markdown",
   "id": "f1b4889a",
   "metadata": {},
   "source": [
    "### set\n",
    "- set is represented vth{}"
   ]
  },
  {
   "cell_type": "code",
   "execution_count": 13,
   "id": "14a8baa8",
   "metadata": {},
   "outputs": [
    {
     "name": "stdout",
     "output_type": "stream",
     "text": [
      "<class 'set'>\n"
     ]
    }
   ],
   "source": [
    "s={1,2,5,68,9,60}\n",
    "print(type(s))"
   ]
  },
  {
   "cell_type": "code",
   "execution_count": 14,
   "id": "e204f3aa",
   "metadata": {},
   "outputs": [
    {
     "data": {
      "text/plain": [
       "list"
      ]
     },
     "execution_count": 14,
     "metadata": {},
     "output_type": "execute_result"
    }
   ],
   "source": [
    "li=[2,4,7,9,30]\n",
    "t=(3,5,7,3,4)\n",
    "s={3,6,80,20}\n",
    "type(li)"
   ]
  },
  {
   "cell_type": "code",
   "execution_count": 15,
   "id": "5b513d2e",
   "metadata": {},
   "outputs": [
    {
     "data": {
      "text/plain": [
       "tuple"
      ]
     },
     "execution_count": 15,
     "metadata": {},
     "output_type": "execute_result"
    }
   ],
   "source": [
    "type(t)"
   ]
  },
  {
   "cell_type": "code",
   "execution_count": 16,
   "id": "966159e7",
   "metadata": {},
   "outputs": [
    {
     "data": {
      "text/plain": [
       "set"
      ]
     },
     "execution_count": 16,
     "metadata": {},
     "output_type": "execute_result"
    }
   ],
   "source": [
    "type(s)"
   ]
  },
  {
   "cell_type": "code",
   "execution_count": 17,
   "id": "0ad93e9c",
   "metadata": {},
   "outputs": [
    {
     "name": "stdout",
     "output_type": "stream",
     "text": [
      "length of list: 5\n",
      "length of tuple: 5\n",
      "length of set: 4\n"
     ]
    }
   ],
   "source": [
    "print(\"length of list:\",len(li))\n",
    "print(\"length of tuple:\",len(t))\n",
    "print(\"length of set:\",len(s))"
   ]
  },
  {
   "cell_type": "code",
   "execution_count": 18,
   "id": "905aea27",
   "metadata": {},
   "outputs": [
    {
     "name": "stdout",
     "output_type": "stream",
     "text": [
      "{80, 3, 20, 6}\n"
     ]
    }
   ],
   "source": [
    "print(s)"
   ]
  },
  {
   "cell_type": "code",
   "execution_count": 19,
   "id": "86ca3684",
   "metadata": {},
   "outputs": [
    {
     "name": "stdout",
     "output_type": "stream",
     "text": [
      "[2, 4, 7, 9, 30]\n"
     ]
    }
   ],
   "source": [
    "print(li)"
   ]
  },
  {
   "cell_type": "code",
   "execution_count": 20,
   "id": "38e74cca",
   "metadata": {},
   "outputs": [
    {
     "name": "stdout",
     "output_type": "stream",
     "text": [
      "(3, 5, 7, 3, 4)\n"
     ]
    }
   ],
   "source": [
    "print(t)"
   ]
  },
  {
   "cell_type": "code",
   "execution_count": 21,
   "id": "4017ab3e",
   "metadata": {},
   "outputs": [
    {
     "data": {
      "text/plain": [
       "['__and__',\n",
       " '__class__',\n",
       " '__class_getitem__',\n",
       " '__contains__',\n",
       " '__delattr__',\n",
       " '__dir__',\n",
       " '__doc__',\n",
       " '__eq__',\n",
       " '__format__',\n",
       " '__ge__',\n",
       " '__getattribute__',\n",
       " '__gt__',\n",
       " '__hash__',\n",
       " '__iand__',\n",
       " '__init__',\n",
       " '__init_subclass__',\n",
       " '__ior__',\n",
       " '__isub__',\n",
       " '__iter__',\n",
       " '__ixor__',\n",
       " '__le__',\n",
       " '__len__',\n",
       " '__lt__',\n",
       " '__ne__',\n",
       " '__new__',\n",
       " '__or__',\n",
       " '__rand__',\n",
       " '__reduce__',\n",
       " '__reduce_ex__',\n",
       " '__repr__',\n",
       " '__ror__',\n",
       " '__rsub__',\n",
       " '__rxor__',\n",
       " '__setattr__',\n",
       " '__sizeof__',\n",
       " '__str__',\n",
       " '__sub__',\n",
       " '__subclasshook__',\n",
       " '__xor__',\n",
       " 'add',\n",
       " 'clear',\n",
       " 'copy',\n",
       " 'difference',\n",
       " 'difference_update',\n",
       " 'discard',\n",
       " 'intersection',\n",
       " 'intersection_update',\n",
       " 'isdisjoint',\n",
       " 'issubset',\n",
       " 'issuperset',\n",
       " 'pop',\n",
       " 'remove',\n",
       " 'symmetric_difference',\n",
       " 'symmetric_difference_update',\n",
       " 'union',\n",
       " 'update']"
      ]
     },
     "execution_count": 21,
     "metadata": {},
     "output_type": "execute_result"
    }
   ],
   "source": [
    "dir(set)"
   ]
  },
  {
   "cell_type": "code",
   "execution_count": 22,
   "id": "83285fa2",
   "metadata": {},
   "outputs": [
    {
     "name": "stdout",
     "output_type": "stream",
     "text": [
      "{'dog', 'fox', 'peacock', 'cat', 'lion'}\n"
     ]
    }
   ],
   "source": [
    "s={'fox','cat','lion','dog','peacock'}\n",
    "print(s)"
   ]
  },
  {
   "cell_type": "code",
   "execution_count": 24,
   "id": "ce9f3005",
   "metadata": {},
   "outputs": [
    {
     "data": {
      "text/plain": [
       "{'cat', 'dog', 'fox', 'lion', 'parrot', 'peacock'}"
      ]
     },
     "execution_count": 24,
     "metadata": {},
     "output_type": "execute_result"
    }
   ],
   "source": [
    "s.add('parrot')\n",
    "s"
   ]
  },
  {
   "cell_type": "code",
   "execution_count": 25,
   "id": "dd2442c5",
   "metadata": {},
   "outputs": [
    {
     "name": "stdout",
     "output_type": "stream",
     "text": [
      "{'dog', 1, 2, 3, 4, 5, 'peacock', 'parrot', 'lion', 'fox', 'cat'}\n"
     ]
    }
   ],
   "source": [
    "# update - to add multiple elements at a time in a set\n",
    "s.update((1,2,3,4,5))\n",
    "print(s)"
   ]
  },
  {
   "cell_type": "code",
   "execution_count": 27,
   "id": "d1757182",
   "metadata": {},
   "outputs": [
    {
     "name": "stdout",
     "output_type": "stream",
     "text": [
      "{'dog', 1, 2, 3, 4, 5, 6, 9, 10, 'peacock', 'parrot', 'lion', 'fox', 'cat'}\n"
     ]
    }
   ],
   "source": [
    "s.update([10,9,6])\n",
    "print(s)"
   ]
  },
  {
   "cell_type": "markdown",
   "id": "d4905f64",
   "metadata": {},
   "source": [
    "### deletion\n",
    "### clear() - used to clear all the data\n",
    "### remove() - used to remove a particular value\n",
    "### discard() - used to discard a particular value\n",
    "### pop() - to delete random elements"
   ]
  },
  {
   "cell_type": "code",
   "execution_count": 29,
   "id": "0d4cda84",
   "metadata": {},
   "outputs": [
    {
     "name": "stdout",
     "output_type": "stream",
     "text": [
      "{'dog', 'fox', 'peacock', 'cat', 'lion'}\n"
     ]
    }
   ],
   "source": [
    "s={'fox','cat','lion','dog','peacock'}\n",
    "print(s)"
   ]
  },
  {
   "cell_type": "code",
   "execution_count": 30,
   "id": "568173e4",
   "metadata": {},
   "outputs": [
    {
     "data": {
      "text/plain": [
       "{'dog', 'fox', 'lion', 'peacock'}"
      ]
     },
     "execution_count": 30,
     "metadata": {},
     "output_type": "execute_result"
    }
   ],
   "source": [
    "s.remove(('cat'))\n",
    "s"
   ]
  },
  {
   "cell_type": "code",
   "execution_count": 31,
   "id": "e9bd2d69",
   "metadata": {},
   "outputs": [
    {
     "data": {
      "text/plain": [
       "{'dog', 'fox', 'peacock'}"
      ]
     },
     "execution_count": 31,
     "metadata": {},
     "output_type": "execute_result"
    }
   ],
   "source": [
    "s.discard('lion')\n",
    "s"
   ]
  },
  {
   "cell_type": "code",
   "execution_count": 36,
   "id": "9d0a5ba1",
   "metadata": {},
   "outputs": [
    {
     "data": {
      "text/plain": [
       "{'fox', 'peacock'}"
      ]
     },
     "execution_count": 36,
     "metadata": {},
     "output_type": "execute_result"
    }
   ],
   "source": [
    "s.pop()\n",
    "s"
   ]
  },
  {
   "cell_type": "code",
   "execution_count": 38,
   "id": "9971e1d5",
   "metadata": {},
   "outputs": [
    {
     "data": {
      "text/plain": [
       "set()"
      ]
     },
     "execution_count": 38,
     "metadata": {},
     "output_type": "execute_result"
    }
   ],
   "source": [
    "s.clear()\n",
    "s"
   ]
  },
  {
   "cell_type": "markdown",
   "id": "1a1ebab1",
   "metadata": {},
   "source": [
    "### set operations\n",
    "- union:combination all elements from two sets\n",
    "- intersection:common elements from two sets\n",
    "- difference: all the remaining elements from a set after removing common elements\n",
    "- symetric-difference: uncommon elements from both sets"
   ]
  },
  {
   "cell_type": "code",
   "execution_count": 4,
   "id": "3457136d",
   "metadata": {},
   "outputs": [
    {
     "name": "stdout",
     "output_type": "stream",
     "text": [
      "{2, 4, 5, 7, 9}\n",
      "{1, 2, 4, 5, 7, 8, 9}\n"
     ]
    }
   ],
   "source": [
    "a={2,5,7,9,4,2,9}\n",
    "b={1,5,7,9,4,2,8}\n",
    "print(a)\n",
    "print(b)"
   ]
  },
  {
   "cell_type": "code",
   "execution_count": 5,
   "id": "49b8299c",
   "metadata": {},
   "outputs": [
    {
     "data": {
      "text/plain": [
       "{2, 4, 5, 7, 9}"
      ]
     },
     "execution_count": 5,
     "metadata": {},
     "output_type": "execute_result"
    }
   ],
   "source": [
    "a.union(a)"
   ]
  },
  {
   "cell_type": "code",
   "execution_count": 6,
   "id": "206b3a2c",
   "metadata": {},
   "outputs": [
    {
     "data": {
      "text/plain": [
       "{1, 2, 4, 5, 7, 8, 9}"
      ]
     },
     "execution_count": 6,
     "metadata": {},
     "output_type": "execute_result"
    }
   ],
   "source": [
    "a.union(b)"
   ]
  },
  {
   "cell_type": "code",
   "execution_count": 8,
   "id": "7a4c2061",
   "metadata": {},
   "outputs": [
    {
     "data": {
      "text/plain": [
       "{2, 4, 5, 7, 9}"
      ]
     },
     "execution_count": 8,
     "metadata": {},
     "output_type": "execute_result"
    }
   ],
   "source": [
    "a.intersection(b)"
   ]
  },
  {
   "cell_type": "code",
   "execution_count": 9,
   "id": "c5c8355c",
   "metadata": {},
   "outputs": [
    {
     "name": "stdout",
     "output_type": "stream",
     "text": [
      "{2, 4, 5, 7, 9}\n"
     ]
    }
   ],
   "source": [
    "print(a.intersection(b))"
   ]
  },
  {
   "cell_type": "code",
   "execution_count": 10,
   "id": "f98d370b",
   "metadata": {},
   "outputs": [
    {
     "name": "stdout",
     "output_type": "stream",
     "text": [
      "{1, 8}\n"
     ]
    }
   ],
   "source": [
    "print(a.symmetric_difference(b))"
   ]
  },
  {
   "cell_type": "code",
   "execution_count": 11,
   "id": "93de9306",
   "metadata": {},
   "outputs": [
    {
     "name": "stdout",
     "output_type": "stream",
     "text": [
      "set()\n"
     ]
    }
   ],
   "source": [
    "print(a.difference(b))"
   ]
  },
  {
   "cell_type": "code",
   "execution_count": 12,
   "id": "d77625d2",
   "metadata": {},
   "outputs": [
    {
     "data": {
      "text/plain": [
       "{2, 4, 6, 8}"
      ]
     },
     "execution_count": 12,
     "metadata": {},
     "output_type": "execute_result"
    }
   ],
   "source": [
    "a={2,4,6,8}\n",
    "a1=a.copy()\n",
    "a1"
   ]
  },
  {
   "cell_type": "code",
   "execution_count": 14,
   "id": "38c2434e",
   "metadata": {},
   "outputs": [
    {
     "name": "stdout",
     "output_type": "stream",
     "text": [
      "{1, 2, 3, 4, 5, 6}\n",
      "{3, 6}\n"
     ]
    }
   ],
   "source": [
    "m={1,2,3,4,5,6}\n",
    "n={3,6}\n",
    "print(m)\n",
    "print(n)"
   ]
  },
  {
   "cell_type": "code",
   "execution_count": 15,
   "id": "8b91c82c",
   "metadata": {},
   "outputs": [
    {
     "name": "stdout",
     "output_type": "stream",
     "text": [
      "True\n",
      "True\n"
     ]
    }
   ],
   "source": [
    "print(n.issubset(m))\n",
    "print(m.issuperset(n))"
   ]
  },
  {
   "cell_type": "code",
   "execution_count": 16,
   "id": "f7b6db5b",
   "metadata": {},
   "outputs": [
    {
     "data": {
      "text/plain": [
       "True"
      ]
     },
     "execution_count": 16,
     "metadata": {},
     "output_type": "execute_result"
    }
   ],
   "source": [
    "l={6,7,8,9}\n",
    "p={5,4,3}\n",
    "l.isdisjoint(p)"
   ]
  },
  {
   "cell_type": "code",
   "execution_count": 23,
   "id": "810c44da",
   "metadata": {},
   "outputs": [
    {
     "name": "stdout",
     "output_type": "stream",
     "text": [
      "{10, 20, 30}\n"
     ]
    }
   ],
   "source": [
    "p={10,20,30,40}\n",
    "q={40,60,70,80}\n",
    "print(p.difference(q))"
   ]
  },
  {
   "cell_type": "code",
   "execution_count": 24,
   "id": "fa536e3f",
   "metadata": {},
   "outputs": [
    {
     "name": "stdout",
     "output_type": "stream",
     "text": [
      "None\n"
     ]
    }
   ],
   "source": [
    "p={10,20,30,40}\n",
    "q={40,60,70,80}\n",
    "print(q.difference_update(p))"
   ]
  },
  {
   "cell_type": "code",
   "execution_count": 25,
   "id": "c2c565bf",
   "metadata": {},
   "outputs": [
    {
     "name": "stdout",
     "output_type": "stream",
     "text": [
      "{40, 10, 20, 30}\n",
      "{80, 60, 70}\n"
     ]
    }
   ],
   "source": [
    "print(p)\n",
    "print(q)"
   ]
  },
  {
   "cell_type": "markdown",
   "id": "66ff25b4",
   "metadata": {},
   "source": [
    "## dictionaries\n",
    "- Dictionary is a unorder collections of items\n",
    "- each item of a dictionary has a key nd value:::{key:value}\n",
    "- Dictionary is muttable nd immutable\n",
    "- In python dictionary written in{}\n",
    "- Keys r not allowed to duplicate values\n",
    "- values are allowed to duplicate value\n",
    "- Entire dictionary depending upon key\n",
    "    - keys are unique in nature\n",
    "    - keys can be written in any data type\n",
    "- values may be similar to values,mentioned as any datatype\n",
    "- keys and values together called as a item\n",
    "- In dictionary indexing is not supported"
   ]
  },
  {
   "cell_type": "code",
   "execution_count": 26,
   "id": "1463b09d",
   "metadata": {},
   "outputs": [
    {
     "name": "stdout",
     "output_type": "stream",
     "text": [
      "<class 'dict'>\n"
     ]
    }
   ],
   "source": [
    "d={}\n",
    "print(type(d))"
   ]
  },
  {
   "cell_type": "code",
   "execution_count": 2,
   "id": "bc5e9473",
   "metadata": {},
   "outputs": [
    {
     "data": {
      "text/plain": [
       "{34: 56, 13: 14, 78: 65}"
      ]
     },
     "execution_count": 2,
     "metadata": {},
     "output_type": "execute_result"
    }
   ],
   "source": [
    "d={34:56,13:14,78:65}\n",
    "d"
   ]
  },
  {
   "cell_type": "code",
   "execution_count": 3,
   "id": "cf1cf4a6",
   "metadata": {},
   "outputs": [
    {
     "name": "stdout",
     "output_type": "stream",
     "text": [
      "125\n",
      "78\n",
      "13\n",
      "3\n",
      "[13, 34, 78]\n"
     ]
    }
   ],
   "source": [
    "print(sum(d))\n",
    "print(max(d))\n",
    "print(min(d))\n",
    "print(len(d))\n",
    "print(sorted(d))"
   ]
  },
  {
   "cell_type": "code",
   "execution_count": 4,
   "id": "9ae5a203",
   "metadata": {},
   "outputs": [
    {
     "data": {
      "text/plain": [
       "65"
      ]
     },
     "execution_count": 4,
     "metadata": {},
     "output_type": "execute_result"
    }
   ],
   "source": [
    "d[78]"
   ]
  },
  {
   "cell_type": "code",
   "execution_count": 5,
   "id": "2187077d",
   "metadata": {},
   "outputs": [
    {
     "name": "stdout",
     "output_type": "stream",
     "text": [
      "{23: 87, 54: 34, 39: 59, 62: {32, 98, 11}}\n"
     ]
    }
   ],
   "source": [
    "d1={23:87,54:34,39:59,62:{98,32,11}}\n",
    "print(d1)"
   ]
  },
  {
   "cell_type": "code",
   "execution_count": 6,
   "id": "0845375d",
   "metadata": {},
   "outputs": [
    {
     "data": {
      "text/plain": [
       "{11, 32, 98}"
      ]
     },
     "execution_count": 6,
     "metadata": {},
     "output_type": "execute_result"
    }
   ],
   "source": [
    "d1[62]"
   ]
  },
  {
   "cell_type": "code",
   "execution_count": 7,
   "id": "7dc1e7fd",
   "metadata": {},
   "outputs": [
    {
     "data": {
      "text/plain": [
       "['__class__',\n",
       " '__class_getitem__',\n",
       " '__contains__',\n",
       " '__delattr__',\n",
       " '__delitem__',\n",
       " '__dir__',\n",
       " '__doc__',\n",
       " '__eq__',\n",
       " '__format__',\n",
       " '__ge__',\n",
       " '__getattribute__',\n",
       " '__getitem__',\n",
       " '__gt__',\n",
       " '__hash__',\n",
       " '__init__',\n",
       " '__init_subclass__',\n",
       " '__ior__',\n",
       " '__iter__',\n",
       " '__le__',\n",
       " '__len__',\n",
       " '__lt__',\n",
       " '__ne__',\n",
       " '__new__',\n",
       " '__or__',\n",
       " '__reduce__',\n",
       " '__reduce_ex__',\n",
       " '__repr__',\n",
       " '__reversed__',\n",
       " '__ror__',\n",
       " '__setattr__',\n",
       " '__setitem__',\n",
       " '__sizeof__',\n",
       " '__str__',\n",
       " '__subclasshook__',\n",
       " 'clear',\n",
       " 'copy',\n",
       " 'fromkeys',\n",
       " 'get',\n",
       " 'items',\n",
       " 'keys',\n",
       " 'pop',\n",
       " 'popitem',\n",
       " 'setdefault',\n",
       " 'update',\n",
       " 'values']"
      ]
     },
     "execution_count": 7,
     "metadata": {},
     "output_type": "execute_result"
    }
   ],
   "source": [
    "dir(dict)"
   ]
  },
  {
   "cell_type": "code",
   "execution_count": 8,
   "id": "635e9145",
   "metadata": {},
   "outputs": [
    {
     "data": {
      "text/plain": [
       "{11, 32, 98}"
      ]
     },
     "execution_count": 8,
     "metadata": {},
     "output_type": "execute_result"
    }
   ],
   "source": [
    "d1.get(62)"
   ]
  },
  {
   "cell_type": "code",
   "execution_count": 10,
   "id": "9c6f87b3",
   "metadata": {},
   "outputs": [
    {
     "data": {
      "text/plain": [
       "dict_keys([23, 54, 39, 62])"
      ]
     },
     "execution_count": 10,
     "metadata": {},
     "output_type": "execute_result"
    }
   ],
   "source": [
    "d1.keys()"
   ]
  },
  {
   "cell_type": "code",
   "execution_count": 11,
   "id": "650c75ba",
   "metadata": {},
   "outputs": [
    {
     "data": {
      "text/plain": [
       "dict_values([87, 34, 59, {32, 98, 11}])"
      ]
     },
     "execution_count": 11,
     "metadata": {},
     "output_type": "execute_result"
    }
   ],
   "source": [
    "d1.values()"
   ]
  },
  {
   "cell_type": "code",
   "execution_count": 14,
   "id": "a939667a",
   "metadata": {},
   "outputs": [
    {
     "data": {
      "text/plain": [
       "87"
      ]
     },
     "execution_count": 14,
     "metadata": {},
     "output_type": "execute_result"
    }
   ],
   "source": [
    "d1.pop(23)"
   ]
  },
  {
   "cell_type": "code",
   "execution_count": 18,
   "id": "21dcb7d2",
   "metadata": {},
   "outputs": [
    {
     "data": {
      "text/plain": [
       "dict_items([(54, 34), (39, 59), (62, {32, 98, 11})])"
      ]
     },
     "execution_count": 18,
     "metadata": {},
     "output_type": "execute_result"
    }
   ],
   "source": [
    "d1.items()"
   ]
  },
  {
   "cell_type": "code",
   "execution_count": 20,
   "id": "073b3dc9",
   "metadata": {},
   "outputs": [
    {
     "data": {
      "text/plain": [
       "{54: 34, 39: 59, 62: {11, 32, 98}, 'python': 'workshop'}"
      ]
     },
     "execution_count": 20,
     "metadata": {},
     "output_type": "execute_result"
    }
   ],
   "source": [
    "d1['python']=\"workshop\"\n",
    "d1"
   ]
  },
  {
   "cell_type": "code",
   "execution_count": 21,
   "id": "5b0d436d",
   "metadata": {},
   "outputs": [
    {
     "data": {
      "text/plain": [
       "('python', 'workshop')"
      ]
     },
     "execution_count": 21,
     "metadata": {},
     "output_type": "execute_result"
    }
   ],
   "source": [
    "d1.popitem()"
   ]
  },
  {
   "cell_type": "code",
   "execution_count": 22,
   "id": "3f8e42b4",
   "metadata": {},
   "outputs": [
    {
     "data": {
      "text/plain": [
       "{54: 34, 39: 59, 62: {11, 32, 98}}"
      ]
     },
     "execution_count": 22,
     "metadata": {},
     "output_type": "execute_result"
    }
   ],
   "source": [
    "d1"
   ]
  },
  {
   "cell_type": "code",
   "execution_count": 25,
   "id": "36deab3e",
   "metadata": {},
   "outputs": [
    {
     "data": {
      "text/plain": [
       "{54: 34, 39: 59, 62: {11, 32, 98}}"
      ]
     },
     "execution_count": 25,
     "metadata": {},
     "output_type": "execute_result"
    }
   ],
   "source": [
    "d1"
   ]
  },
  {
   "cell_type": "code",
   "execution_count": 29,
   "id": "adb2cce9",
   "metadata": {},
   "outputs": [
    {
     "name": "stdout",
     "output_type": "stream",
     "text": [
      "{54: 34, 39: 59, 62: {32, 98, 11}}\n",
      "{54: 34, 39: 59, 62: {32, 98, 11}}\n"
     ]
    }
   ],
   "source": [
    "d2=d1.copy()\n",
    "print(d2)\n",
    "print(d1)"
   ]
  },
  {
   "cell_type": "code",
   "execution_count": 30,
   "id": "f54e4787",
   "metadata": {},
   "outputs": [
    {
     "data": {
      "text/plain": [
       "{'w': None, 'o': None, 'r': None, 'k': None}"
      ]
     },
     "execution_count": 30,
     "metadata": {},
     "output_type": "execute_result"
    }
   ],
   "source": [
    "d2.fromkeys(\"work\")"
   ]
  },
  {
   "cell_type": "code",
   "execution_count": 31,
   "id": "3e1f4fff",
   "metadata": {},
   "outputs": [
    {
     "data": {
      "text/plain": [
       "{'p': 45, 'y': 45, 't': 45, 'h': 45}"
      ]
     },
     "execution_count": 31,
     "metadata": {},
     "output_type": "execute_result"
    }
   ],
   "source": [
    "d2.fromkeys('pyth',45)"
   ]
  },
  {
   "cell_type": "code",
   "execution_count": 33,
   "id": "230603b8",
   "metadata": {},
   "outputs": [
    {
     "name": "stdout",
     "output_type": "stream",
     "text": [
      "{54: 34, 39: 59, 62: {32, 98, 11}, 'jyo': 'jessy'}\n"
     ]
    }
   ],
   "source": [
    "d2.update({'jyo':'jessy'})\n",
    "print(d2)"
   ]
  },
  {
   "cell_type": "code",
   "execution_count": 36,
   "id": "c1071352",
   "metadata": {},
   "outputs": [
    {
     "data": {
      "text/plain": [
       "{54: 34, 39: 59, 62: {11, 32, 98}, 'jyo': 'jessy'}"
      ]
     },
     "execution_count": 36,
     "metadata": {},
     "output_type": "execute_result"
    }
   ],
   "source": [
    "d2.setdefault(54)\n",
    "d2"
   ]
  },
  {
   "cell_type": "code",
   "execution_count": 37,
   "id": "34d0a5e9",
   "metadata": {},
   "outputs": [
    {
     "data": {
      "text/plain": [
       "59"
      ]
     },
     "execution_count": 37,
     "metadata": {},
     "output_type": "execute_result"
    }
   ],
   "source": [
    "d2.setdefault(39)"
   ]
  },
  {
   "cell_type": "code",
   "execution_count": 39,
   "id": "aa0371a6",
   "metadata": {},
   "outputs": [
    {
     "data": {
      "text/plain": [
       "{}"
      ]
     },
     "execution_count": 39,
     "metadata": {},
     "output_type": "execute_result"
    }
   ],
   "source": [
    "d2.clear()\n",
    "d2"
   ]
  },
  {
   "cell_type": "markdown",
   "id": "604a958d",
   "metadata": {},
   "source": [
    "## modules and packages\n",
    "- module:module is nothing but.py file or no of file it contains functions\n",
    "- module is a single or multiple  files that can be resue the code \n",
    "- package:collection of modules\n",
    "    - package is a directory of such modules\n",
    "    - it possible to put several modules in to a package\n",
    "- modules are two types\n",
    "    - built in module ex:math functions\n",
    "    - user defined modules"
   ]
  },
  {
   "cell_type": "code",
   "execution_count": 1,
   "id": "2da80f8e",
   "metadata": {},
   "outputs": [],
   "source": [
    "import math"
   ]
  },
  {
   "cell_type": "code",
   "execution_count": 2,
   "id": "07dde84c",
   "metadata": {},
   "outputs": [
    {
     "name": "stdout",
     "output_type": "stream",
     "text": [
      "['__doc__', '__loader__', '__name__', '__package__', '__spec__', 'acos', 'acosh', 'asin', 'asinh', 'atan', 'atan2', 'atanh', 'ceil', 'comb', 'copysign', 'cos', 'cosh', 'degrees', 'dist', 'e', 'erf', 'erfc', 'exp', 'expm1', 'fabs', 'factorial', 'floor', 'fmod', 'frexp', 'fsum', 'gamma', 'gcd', 'hypot', 'inf', 'isclose', 'isfinite', 'isinf', 'isnan', 'isqrt', 'lcm', 'ldexp', 'lgamma', 'log', 'log10', 'log1p', 'log2', 'modf', 'nan', 'nextafter', 'perm', 'pi', 'pow', 'prod', 'radians', 'remainder', 'sin', 'sinh', 'sqrt', 'tan', 'tanh', 'tau', 'trunc', 'ulp'] "
     ]
    }
   ],
   "source": [
    "print(dir(math),end=\" \")"
   ]
  },
  {
   "cell_type": "code",
   "execution_count": 7,
   "id": "075786ba",
   "metadata": {},
   "outputs": [],
   "source": [
    "from math import factorial,pi,remainder"
   ]
  },
  {
   "cell_type": "code",
   "execution_count": 8,
   "id": "bbcb1f2a",
   "metadata": {},
   "outputs": [
    {
     "name": "stdout",
     "output_type": "stream",
     "text": [
      "3628800\n"
     ]
    }
   ],
   "source": [
    "print(factorial(10))"
   ]
  },
  {
   "cell_type": "code",
   "execution_count": 9,
   "id": "96d8b32d",
   "metadata": {},
   "outputs": [
    {
     "name": "stdout",
     "output_type": "stream",
     "text": [
      "3.141592653589793\n"
     ]
    }
   ],
   "source": [
    "print(pi)"
   ]
  },
  {
   "cell_type": "code",
   "execution_count": 10,
   "id": "62ca8ca2",
   "metadata": {},
   "outputs": [
    {
     "name": "stdout",
     "output_type": "stream",
     "text": [
      "0.0\n"
     ]
    }
   ],
   "source": [
    "print(remainder(10,2))"
   ]
  },
  {
   "cell_type": "code",
   "execution_count": 12,
   "id": "009ecca4",
   "metadata": {},
   "outputs": [
    {
     "name": "stdout",
     "output_type": "stream",
     "text": [
      "1.0\n"
     ]
    }
   ],
   "source": [
    "print(remainder(10,9))"
   ]
  },
  {
   "cell_type": "code",
   "execution_count": 13,
   "id": "b26f4005",
   "metadata": {},
   "outputs": [],
   "source": [
    "from math import*"
   ]
  },
  {
   "cell_type": "code",
   "execution_count": 14,
   "id": "2d4cc72a",
   "metadata": {},
   "outputs": [
    {
     "name": "stdout",
     "output_type": "stream",
     "text": [
      "56\n"
     ]
    }
   ],
   "source": [
    "print(floor(56))"
   ]
  },
  {
   "cell_type": "code",
   "execution_count": 15,
   "id": "6db8c7a3",
   "metadata": {},
   "outputs": [
    {
     "name": "stdout",
     "output_type": "stream",
     "text": [
      "79\n"
     ]
    }
   ],
   "source": [
    "print(floor(79.26))"
   ]
  },
  {
   "cell_type": "code",
   "execution_count": 16,
   "id": "c2b9670e",
   "metadata": {},
   "outputs": [
    {
     "name": "stdout",
     "output_type": "stream",
     "text": [
      "11\n"
     ]
    }
   ],
   "source": [
    "print(ceil(10.2))"
   ]
  },
  {
   "cell_type": "code",
   "execution_count": 17,
   "id": "19592097",
   "metadata": {},
   "outputs": [
    {
     "name": "stdout",
     "output_type": "stream",
     "text": [
      "8.426149773176359\n"
     ]
    }
   ],
   "source": [
    "print(sqrt(71))"
   ]
  },
  {
   "cell_type": "code",
   "execution_count": 18,
   "id": "36961ade",
   "metadata": {},
   "outputs": [
    {
     "name": "stdout",
     "output_type": "stream",
     "text": [
      "2.8284271247461903\n"
     ]
    }
   ],
   "source": [
    "print(sqrt(8))"
   ]
  },
  {
   "cell_type": "code",
   "execution_count": 19,
   "id": "665b4eb6",
   "metadata": {},
   "outputs": [
    {
     "name": "stdout",
     "output_type": "stream",
     "text": [
      "-0.27941549819892586\n"
     ]
    }
   ],
   "source": [
    "print(sin(6))"
   ]
  },
  {
   "cell_type": "code",
   "execution_count": 20,
   "id": "d18ce2f2",
   "metadata": {},
   "outputs": [
    {
     "name": "stdout",
     "output_type": "stream",
     "text": [
      "0.960170286650366\n"
     ]
    }
   ],
   "source": [
    "print(cos(6))"
   ]
  },
  {
   "cell_type": "code",
   "execution_count": 21,
   "id": "5539bdac",
   "metadata": {},
   "outputs": [
    {
     "name": "stdout",
     "output_type": "stream",
     "text": [
      "6\n"
     ]
    }
   ],
   "source": [
    "print(gcd(24,18))"
   ]
  },
  {
   "cell_type": "code",
   "execution_count": 22,
   "id": "0f38dd5c",
   "metadata": {},
   "outputs": [
    {
     "name": "stdout",
     "output_type": "stream",
     "text": [
      "1\n"
     ]
    }
   ],
   "source": [
    "print(gcd(13,1))"
   ]
  },
  {
   "cell_type": "code",
   "execution_count": 23,
   "id": "bbdb7cd1",
   "metadata": {},
   "outputs": [
    {
     "name": "stdout",
     "output_type": "stream",
     "text": [
      "5\n"
     ]
    }
   ],
   "source": [
    "print(gcd(20,65)) # gcd(a,b)=(a*b)/LCM(a,b)"
   ]
  },
  {
   "cell_type": "code",
   "execution_count": 24,
   "id": "9930739b",
   "metadata": {},
   "outputs": [
    {
     "name": "stdout",
     "output_type": "stream",
     "text": [
      "['BPF', 'LOG4', 'NV_MAGICCONST', 'RECIP_BPF', 'Random', 'SG_MAGICCONST', 'SystemRandom', 'TWOPI', '_Sequence', '_Set', '__all__', '__builtins__', '__cached__', '__doc__', '__file__', '__loader__', '__name__', '__package__', '__spec__', '_accumulate', '_acos', '_bisect', '_ceil', '_cos', '_e', '_exp', '_floor', '_inst', '_log', '_os', '_pi', '_random', '_repeat', '_sha512', '_sin', '_sqrt', '_test', '_test_generator', '_urandom', '_warn', 'betavariate', 'choice', 'choices', 'expovariate', 'gammavariate', 'gauss', 'getrandbits', 'getstate', 'lognormvariate', 'normalvariate', 'paretovariate', 'randbytes', 'randint', 'random', 'randrange', 'sample', 'seed', 'setstate', 'shuffle', 'triangular', 'uniform', 'vonmisesvariate', 'weibullvariate']\n"
     ]
    }
   ],
   "source": [
    "import random\n",
    "print(dir(random))"
   ]
  },
  {
   "cell_type": "code",
   "execution_count": 25,
   "id": "7e1c6ee1",
   "metadata": {},
   "outputs": [],
   "source": [
    "from random import*"
   ]
  },
  {
   "cell_type": "code",
   "execution_count": 28,
   "id": "2d84320d",
   "metadata": {},
   "outputs": [
    {
     "name": "stdout",
     "output_type": "stream",
     "text": [
      "523\n"
     ]
    }
   ],
   "source": [
    "print(randint(167,999))"
   ]
  },
  {
   "cell_type": "code",
   "execution_count": 27,
   "id": "853ba982",
   "metadata": {},
   "outputs": [
    {
     "name": "stdout",
     "output_type": "stream",
     "text": [
      "0.8533985431990296\n"
     ]
    }
   ],
   "source": [
    "print(random()) # its gives the value in between"
   ]
  },
  {
   "cell_type": "code",
   "execution_count": 29,
   "id": "a814247f",
   "metadata": {},
   "outputs": [
    {
     "data": {
      "text/plain": [
       "34"
      ]
     },
     "execution_count": 29,
     "metadata": {},
     "output_type": "execute_result"
    }
   ],
   "source": [
    "import random\n",
    "random.randrange(0,100)"
   ]
  },
  {
   "cell_type": "code",
   "execution_count": 33,
   "id": "644c7a1f",
   "metadata": {},
   "outputs": [
    {
     "name": "stdout",
     "output_type": "stream",
     "text": [
      "                                  2022\n",
      "\n",
      "      January                   February                   March\n",
      "Mo Tu We Th Fr Sa Su      Mo Tu We Th Fr Sa Su      Mo Tu We Th Fr Sa Su\n",
      "                1  2          1  2  3  4  5  6          1  2  3  4  5  6\n",
      " 3  4  5  6  7  8  9       7  8  9 10 11 12 13       7  8  9 10 11 12 13\n",
      "10 11 12 13 14 15 16      14 15 16 17 18 19 20      14 15 16 17 18 19 20\n",
      "17 18 19 20 21 22 23      21 22 23 24 25 26 27      21 22 23 24 25 26 27\n",
      "24 25 26 27 28 29 30      28                        28 29 30 31\n",
      "31\n",
      "\n",
      "       April                      May                       June\n",
      "Mo Tu We Th Fr Sa Su      Mo Tu We Th Fr Sa Su      Mo Tu We Th Fr Sa Su\n",
      "             1  2  3                         1             1  2  3  4  5\n",
      " 4  5  6  7  8  9 10       2  3  4  5  6  7  8       6  7  8  9 10 11 12\n",
      "11 12 13 14 15 16 17       9 10 11 12 13 14 15      13 14 15 16 17 18 19\n",
      "18 19 20 21 22 23 24      16 17 18 19 20 21 22      20 21 22 23 24 25 26\n",
      "25 26 27 28 29 30         23 24 25 26 27 28 29      27 28 29 30\n",
      "                          30 31\n",
      "\n",
      "        July                     August                  September\n",
      "Mo Tu We Th Fr Sa Su      Mo Tu We Th Fr Sa Su      Mo Tu We Th Fr Sa Su\n",
      "             1  2  3       1  2  3  4  5  6  7                1  2  3  4\n",
      " 4  5  6  7  8  9 10       8  9 10 11 12 13 14       5  6  7  8  9 10 11\n",
      "11 12 13 14 15 16 17      15 16 17 18 19 20 21      12 13 14 15 16 17 18\n",
      "18 19 20 21 22 23 24      22 23 24 25 26 27 28      19 20 21 22 23 24 25\n",
      "25 26 27 28 29 30 31      29 30 31                  26 27 28 29 30\n",
      "\n",
      "      October                   November                  December\n",
      "Mo Tu We Th Fr Sa Su      Mo Tu We Th Fr Sa Su      Mo Tu We Th Fr Sa Su\n",
      "                1  2          1  2  3  4  5  6                1  2  3  4\n",
      " 3  4  5  6  7  8  9       7  8  9 10 11 12 13       5  6  7  8  9 10 11\n",
      "10 11 12 13 14 15 16      14 15 16 17 18 19 20      12 13 14 15 16 17 18\n",
      "17 18 19 20 21 22 23      21 22 23 24 25 26 27      19 20 21 22 23 24 25\n",
      "24 25 26 27 28 29 30      28 29 30                  26 27 28 29 30 31\n",
      "31\n",
      "\n"
     ]
    }
   ],
   "source": [
    "import calendar\n",
    "print(calendar.calendar(2022))"
   ]
  },
  {
   "cell_type": "code",
   "execution_count": 34,
   "id": "bdadee1b",
   "metadata": {},
   "outputs": [
    {
     "name": "stdout",
     "output_type": "stream",
     "text": [
      "False\n"
     ]
    }
   ],
   "source": [
    "print(calendar.isleap(2022))"
   ]
  },
  {
   "cell_type": "code",
   "execution_count": 35,
   "id": "e8e91b71",
   "metadata": {},
   "outputs": [
    {
     "name": "stdout",
     "output_type": "stream",
     "text": [
      "     July 2022\n",
      "Mo Tu We Th Fr Sa Su\n",
      "             1  2  3\n",
      " 4  5  6  7  8  9 10\n",
      "11 12 13 14 15 16 17\n",
      "18 19 20 21 22 23 24\n",
      "25 26 27 28 29 30 31\n",
      "\n"
     ]
    }
   ],
   "source": [
    "print(calendar.month(2022,7))"
   ]
  },
  {
   "cell_type": "code",
   "execution_count": 37,
   "id": "0831edb2",
   "metadata": {},
   "outputs": [],
   "source": [
    "import calc"
   ]
  },
  {
   "cell_type": "code",
   "execution_count": 38,
   "id": "26480e1c",
   "metadata": {},
   "outputs": [
    {
     "data": {
      "text/plain": [
       "['__builtins__',\n",
       " '__cached__',\n",
       " '__doc__',\n",
       " '__file__',\n",
       " '__loader__',\n",
       " '__name__',\n",
       " '__package__',\n",
       " '__spec__',\n",
       " 'add',\n",
       " 'div',\n",
       " 'mul',\n",
       " 'sub']"
      ]
     },
     "execution_count": 38,
     "metadata": {},
     "output_type": "execute_result"
    }
   ],
   "source": [
    "dir(calc)"
   ]
  },
  {
   "cell_type": "code",
   "execution_count": 40,
   "id": "b2e595a6",
   "metadata": {},
   "outputs": [
    {
     "data": {
      "text/plain": [
       "600"
      ]
     },
     "execution_count": 40,
     "metadata": {},
     "output_type": "execute_result"
    }
   ],
   "source": [
    "calc.mul(20,30)"
   ]
  },
  {
   "cell_type": "code",
   "execution_count": 41,
   "id": "c9becea2",
   "metadata": {},
   "outputs": [
    {
     "data": {
      "text/plain": [
       "50"
      ]
     },
     "execution_count": 41,
     "metadata": {},
     "output_type": "execute_result"
    }
   ],
   "source": [
    "calc.add(20,30)"
   ]
  },
  {
   "cell_type": "code",
   "execution_count": 42,
   "id": "c4715dc7",
   "metadata": {},
   "outputs": [
    {
     "data": {
      "text/plain": [
       "-10"
      ]
     },
     "execution_count": 42,
     "metadata": {},
     "output_type": "execute_result"
    }
   ],
   "source": [
    "calc.sub(20,30)"
   ]
  },
  {
   "cell_type": "code",
   "execution_count": 43,
   "id": "d7a90237",
   "metadata": {},
   "outputs": [
    {
     "data": {
      "text/plain": [
       "0.6666666666666666"
      ]
     },
     "execution_count": 43,
     "metadata": {},
     "output_type": "execute_result"
    }
   ],
   "source": [
    "calc.div(20,30)"
   ]
  },
  {
   "cell_type": "code",
   "execution_count": 44,
   "id": "8d408d9d",
   "metadata": {},
   "outputs": [
    {
     "data": {
      "text/plain": [
       "156"
      ]
     },
     "execution_count": 44,
     "metadata": {},
     "output_type": "execute_result"
    }
   ],
   "source": [
    "calc.mul(52,3)"
   ]
  },
  {
   "cell_type": "code",
   "execution_count": 46,
   "id": "6a1ed179",
   "metadata": {},
   "outputs": [],
   "source": [
    "from calc import add"
   ]
  },
  {
   "cell_type": "code",
   "execution_count": 47,
   "id": "05480f03",
   "metadata": {},
   "outputs": [
    {
     "data": {
      "text/plain": [
       "80"
      ]
     },
     "execution_count": 47,
     "metadata": {},
     "output_type": "execute_result"
    }
   ],
   "source": [
    "add(50,30)"
   ]
  },
  {
   "cell_type": "code",
   "execution_count": 48,
   "id": "69ed0073",
   "metadata": {},
   "outputs": [],
   "source": [
    "from calc import *"
   ]
  },
  {
   "cell_type": "code",
   "execution_count": 49,
   "id": "a941ac34",
   "metadata": {},
   "outputs": [
    {
     "data": {
      "text/plain": [
       "114"
      ]
     },
     "execution_count": 49,
     "metadata": {},
     "output_type": "execute_result"
    }
   ],
   "source": [
    "add(60,54)"
   ]
  },
  {
   "cell_type": "code",
   "execution_count": 51,
   "id": "cb747b99",
   "metadata": {},
   "outputs": [
    {
     "data": {
      "text/plain": [
       "44"
      ]
     },
     "execution_count": 51,
     "metadata": {},
     "output_type": "execute_result"
    }
   ],
   "source": [
    "sub(65,21)"
   ]
  },
  {
   "cell_type": "code",
   "execution_count": 52,
   "id": "47247c2d",
   "metadata": {},
   "outputs": [],
   "source": [
    "from calc import add as a"
   ]
  },
  {
   "cell_type": "code",
   "execution_count": 53,
   "id": "e365d688",
   "metadata": {},
   "outputs": [
    {
     "data": {
      "text/plain": [
       "1052"
      ]
     },
     "execution_count": 53,
     "metadata": {},
     "output_type": "execute_result"
    }
   ],
   "source": [
    "add(65,987)"
   ]
  },
  {
   "cell_type": "code",
   "execution_count": 2,
   "id": "4f2b0615",
   "metadata": {},
   "outputs": [
    {
     "name": "stdout",
     "output_type": "stream",
     "text": [
      "enter a number8\n",
      "even number\n"
     ]
    }
   ],
   "source": [
    "import even"
   ]
  },
  {
   "cell_type": "code",
   "execution_count": 1,
   "id": "87a4d96f",
   "metadata": {},
   "outputs": [
    {
     "name": "stdout",
     "output_type": "stream",
     "text": [
      "enter a number12\n",
      "even number\n"
     ]
    }
   ],
   "source": [
    "import even"
   ]
  },
  {
   "cell_type": "markdown",
   "id": "8d15f8ca",
   "metadata": {},
   "source": [
    "### regular expressions\n",
    "- A regular expression is a sequence of a characters that defines a search patterns\n",
    "- we have to built in modules in python work to with regular expressions:represented with re\n",
    "- we have to import that module into our python file by using re\n",
    "- syntax::re.regex function('pattern'.'input')\n",
    "- 3 methods\n",
    "    - 1.findall()\n",
    "        - it returns a list containing all matches(or) this module is used to search for all occurances that match a given (find all the duplicates for a specified pattern)\n",
    "    - 2.search()\n",
    "         - to test the specified pattern in present or not in the given string\n",
    "    - 3.match()\n",
    "         - the text the i/p string starts with specified pattern or not "
   ]
  },
  {
   "cell_type": "code",
   "execution_count": 3,
   "id": "1c6e8f10",
   "metadata": {},
   "outputs": [
    {
     "name": "stdout",
     "output_type": "stream",
     "text": [
      "['ai', 'ai']\n"
     ]
    }
   ],
   "source": [
    "import re\n",
    "n='the rain in spain'\n",
    "z=re.findall('ai',n)\n",
    "print(z)"
   ]
  },
  {
   "cell_type": "code",
   "execution_count": 4,
   "id": "0e5041cb",
   "metadata": {},
   "outputs": [
    {
     "name": "stdout",
     "output_type": "stream",
     "text": [
      "['in', 'in', 'in']\n"
     ]
    }
   ],
   "source": [
    "import re\n",
    "n=n='the rain in spain'\n",
    "z=re.findall('in',n)\n",
    "print(z)"
   ]
  },
  {
   "cell_type": "code",
   "execution_count": 5,
   "id": "b078511d",
   "metadata": {},
   "outputs": [
    {
     "data": {
      "text/plain": [
       "<re.Match object; span=(0, 1), match='p'>"
      ]
     },
     "execution_count": 5,
     "metadata": {},
     "output_type": "execute_result"
    }
   ],
   "source": [
    "# search\n",
    "re.search('p','pythonworkshop')"
   ]
  },
  {
   "cell_type": "code",
   "execution_count": 6,
   "id": "e55ebde9",
   "metadata": {},
   "outputs": [
    {
     "data": {
      "text/plain": [
       "['p', 'p']"
      ]
     },
     "execution_count": 6,
     "metadata": {},
     "output_type": "execute_result"
    }
   ],
   "source": [
    "re.findall('p','pythonworkshop')"
   ]
  },
  {
   "cell_type": "code",
   "execution_count": 7,
   "id": "e1484080",
   "metadata": {},
   "outputs": [],
   "source": [
    "re.search('z','pythonworkshop')"
   ]
  },
  {
   "cell_type": "code",
   "execution_count": 8,
   "id": "5e066d77",
   "metadata": {},
   "outputs": [
    {
     "data": {
      "text/plain": [
       "<re.Match object; span=(7, 8), match='p'>"
      ]
     },
     "execution_count": 8,
     "metadata": {},
     "output_type": "execute_result"
    }
   ],
   "source": [
    "re.search('p','workshop')"
   ]
  },
  {
   "cell_type": "code",
   "execution_count": 10,
   "id": "cc26725a",
   "metadata": {},
   "outputs": [
    {
     "data": {
      "text/plain": [
       "<re.Match object; span=(0, 1), match='p'>"
      ]
     },
     "execution_count": 10,
     "metadata": {},
     "output_type": "execute_result"
    }
   ],
   "source": [
    "re.match('p','python')"
   ]
  },
  {
   "cell_type": "code",
   "execution_count": 11,
   "id": "b462c11f",
   "metadata": {},
   "outputs": [
    {
     "data": {
      "text/plain": [
       "<re.Match object; span=(0, 3), match='pyt'>"
      ]
     },
     "execution_count": 11,
     "metadata": {},
     "output_type": "execute_result"
    }
   ],
   "source": [
    "re.match('pyt','python')"
   ]
  },
  {
   "cell_type": "code",
   "execution_count": 14,
   "id": "4e4b50e8",
   "metadata": {},
   "outputs": [
    {
     "data": {
      "text/plain": [
       "<re.Match object; span=(0, 5), match='pytho'>"
      ]
     },
     "execution_count": 14,
     "metadata": {},
     "output_type": "execute_result"
    }
   ],
   "source": [
    "re.match('pytho','python')"
   ]
  },
  {
   "cell_type": "code",
   "execution_count": 15,
   "id": "d2369a6f",
   "metadata": {},
   "outputs": [
    {
     "data": {
      "text/plain": [
       "<re.Match object; span=(0, 2), match='py'>"
      ]
     },
     "execution_count": 15,
     "metadata": {},
     "output_type": "execute_result"
    }
   ],
   "source": [
    "re.match('py','python')"
   ]
  },
  {
   "cell_type": "code",
   "execution_count": 1,
   "id": "29ece999",
   "metadata": {},
   "outputs": [],
   "source": [
    "import re"
   ]
  },
  {
   "cell_type": "markdown",
   "id": "353987e3",
   "metadata": {},
   "source": [
    "## mobile validations\n",
    "- 10 digits\n",
    "- starts with indian num+91\n",
    "- starts with 9,8,7,6\n",
    "## gmail validations\n",
    "- length- user mentioned\n",
    "- adding caps letters and small letters with special characters and digits\n",
    "- @gmail.com,@yahoo.com,@vasavi.com"
   ]
  },
  {
   "cell_type": "markdown",
   "id": "7c6f3b59",
   "metadata": {},
   "source": [
    "- patterna::\n",
    "     - ^ - start\n",
    "     - $ - end\n",
    "     - [0-9] ---> numbers\n",
    "     - [a-z] ---> small alphabets\n",
    "     - [A-Z] ---> caps alphabets\n",
    "     - [a-zA-z] ---> both caps and small characters\n",
    "     - [@] ---> special character\n",
    "     - [.] ---> for mention\n",
    "     - [0-9]{4} ---> we have to give 4 numbers\n",
    "     - [0-9]{6} ---> we have to give 6 numbers\n",
    "     - | ---> for another pattern"
   ]
  },
  {
   "cell_type": "code",
   "execution_count": null,
   "id": "017c5521",
   "metadata": {},
   "outputs": [],
   "source": [
    "# 9603858043\n",
    "\n",
    "# pattern=^[6-9][0-9]{9}$\n",
    "\n",
    "# +91 9989814950\n",
    "\n",
    "# pattern=^[+][9][6-9][0-9]{9}$"
   ]
  },
  {
   "cell_type": "code",
   "execution_count": 2,
   "id": "979345c4",
   "metadata": {},
   "outputs": [
    {
     "name": "stdout",
     "output_type": "stream",
     "text": [
      "enter phone number9989814950\n",
      "valid number\n"
     ]
    }
   ],
   "source": [
    "import re\n",
    "phone_no=input(\"enter phone number\")\n",
    "pattern=\"^[6-9][0-9]{9}$|^[+][9][6-9][0-9]{9}$\"\n",
    "if re.match(pattern,phone_no):\n",
    "    print(\"valid number\")\n",
    "else:\n",
    "    print(\"invalid number\")"
   ]
  },
  {
   "cell_type": "markdown",
   "id": "32e69323",
   "metadata": {},
   "source": [
    "## email validations\n",
    "- 1.user name@domain\n",
    "   - username specifiations\n",
    "     - a -zA-z-9\n",
    "     - special symbol:[]\n",
    "         - length-6 to 20 characters\n",
    "- 2.domain\n",
    "    - a-z length-5 to 10 characters\n",
    "    - A-Z length 2 to 5 ----in.org"
   ]
  },
  {
   "cell_type": "code",
   "execution_count": 6,
   "id": "3e1c58a3",
   "metadata": {},
   "outputs": [
    {
     "name": "stdout",
     "output_type": "stream",
     "text": [
      "enter email idvasavi99@gmail.com\n",
      "valid email\n"
     ]
    }
   ],
   "source": [
    "# vasavi99@gmail.com\n",
    "email_id=input(\"enter email id\")\n",
    "pattern=\"^[a-z]{6}[9][9][@][a-z]{5}[.][a-z]{3}\"\n",
    "if re.match(pattern,email_id):\n",
    "    print(\"valid email\")\n",
    "else:\n",
    "    print(\"invalid email\")"
   ]
  },
  {
   "cell_type": "code",
   "execution_count": null,
   "id": "4be51ac3",
   "metadata": {},
   "outputs": [],
   "source": []
  }
 ],
 "metadata": {
  "kernelspec": {
   "display_name": "Python 3 (ipykernel)",
   "language": "python",
   "name": "python3"
  },
  "language_info": {
   "codemirror_mode": {
    "name": "ipython",
    "version": 3
   },
   "file_extension": ".py",
   "mimetype": "text/x-python",
   "name": "python",
   "nbconvert_exporter": "python",
   "pygments_lexer": "ipython3",
   "version": "3.9.7"
  }
 },
 "nbformat": 4,
 "nbformat_minor": 5
}
