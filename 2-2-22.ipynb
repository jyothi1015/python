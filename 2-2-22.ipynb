{
 "cells": [
  {
   "cell_type": "markdown",
   "id": "3413a18a",
   "metadata": {},
   "source": [
    "### input and output methods  \n",
    "- reading the data or information from the user----***input()***   \n",
    "    - static data  \n",
    "    - dynamical input\n",
    "- displaying the information or data from the user----***print()***  "
   ]
  },
  {
   "cell_type": "code",
   "execution_count": 1,
   "id": "798aa6bc",
   "metadata": {},
   "outputs": [
    {
     "name": "stdout",
     "output_type": "stream",
     "text": [
      "20\n",
      "30\n"
     ]
    }
   ],
   "source": [
    "a=20  \n",
    "b=30  \n",
    "print(a)  \n",
    "print(b)"
   ]
  },
  {
   "cell_type": "code",
   "execution_count": 2,
   "id": "57b48f0b",
   "metadata": {},
   "outputs": [
    {
     "name": "stdout",
     "output_type": "stream",
     "text": [
      "jyothika\n"
     ]
    },
    {
     "data": {
      "text/plain": [
       "'jyothika'"
      ]
     },
     "execution_count": 2,
     "metadata": {},
     "output_type": "execute_result"
    }
   ],
   "source": [
    "a=input()  \n",
    "a"
   ]
  },
  {
   "cell_type": "code",
   "execution_count": 3,
   "id": "1f5a3c61",
   "metadata": {},
   "outputs": [
    {
     "name": "stdout",
     "output_type": "stream",
     "text": [
      "enter user value567\n"
     ]
    },
    {
     "data": {
      "text/plain": [
       "'567'"
      ]
     },
     "execution_count": 3,
     "metadata": {},
     "output_type": "execute_result"
    }
   ],
   "source": [
    "a=input(\"enter user value\")  \n",
    "a  "
   ]
  },
  {
   "cell_type": "code",
   "execution_count": 4,
   "id": "fd3dfd6e",
   "metadata": {},
   "outputs": [
    {
     "name": "stdout",
     "output_type": "stream",
     "text": [
      "enter user value567\n"
     ]
    },
    {
     "data": {
      "text/plain": [
       "567.0"
      ]
     },
     "execution_count": 4,
     "metadata": {},
     "output_type": "execute_result"
    }
   ],
   "source": [
    "a=float(input(\"enter user value\"))  \n",
    "a"
   ]
  },
  {
   "cell_type": "code",
   "execution_count": 5,
   "id": "32cffaf9",
   "metadata": {},
   "outputs": [
    {
     "name": "stdout",
     "output_type": "stream",
     "text": [
      "enter user value567\n"
     ]
    },
    {
     "data": {
      "text/plain": [
       "(567+0j)"
      ]
     },
     "execution_count": 5,
     "metadata": {},
     "output_type": "execute_result"
    }
   ],
   "source": [
    "a=complex(input(\"enter user value\"))  \n",
    "a"
   ]
  },
  {
   "cell_type": "code",
   "execution_count": 6,
   "id": "fd79ecd5",
   "metadata": {},
   "outputs": [
    {
     "name": "stdout",
     "output_type": "stream",
     "text": [
      "enter user value567\n",
      "567\n"
     ]
    }
   ],
   "source": [
    "a=input(\"enter user value\")  \n",
    "print(a)"
   ]
  },
  {
   "cell_type": "code",
   "execution_count": 11,
   "id": "19d6d537",
   "metadata": {},
   "outputs": [
    {
     "name": "stdout",
     "output_type": "stream",
     "text": [
      "20 30 50\n",
      "50\n"
     ]
    }
   ],
   "source": [
    "a=20  \n",
    "b=30  \n",
    "c=50  \n",
    "print(a,b,c,)  \n",
    "print(c)  "
   ]
  },
  {
   "cell_type": "code",
   "execution_count": 8,
   "id": "fe9ad149",
   "metadata": {},
   "outputs": [
    {
     "name": "stdout",
     "output_type": "stream",
     "text": [
      "Help on built-in function print in module builtins:\n",
      "\n",
      "print(...)\n",
      "    print(value, ..., sep=' ', end='\\n', file=sys.stdout, flush=False)\n",
      "    \n",
      "    Prints the values to a stream, or to sys.stdout by default.\n",
      "    Optional keyword arguments:\n",
      "    file:  a file-like object (stream); defaults to the current sys.stdout.\n",
      "    sep:   string inserted between values, default a space.\n",
      "    end:   string appended after the last value, default a newline.\n",
      "    flush: whether to forcibly flush the stream.\n",
      "\n"
     ]
    }
   ],
   "source": [
    "help(print)  "
   ]
  },
  {
   "cell_type": "code",
   "execution_count": 12,
   "id": "9e84f144",
   "metadata": {},
   "outputs": [
    {
     "name": "stdout",
     "output_type": "stream",
     "text": [
      "20,30,50\n"
     ]
    }
   ],
   "source": [
    "a=20  \n",
    "b=30  \n",
    "c=50  \n",
    "print(a,b,c,sep=\",\")"
   ]
  },
  {
   "cell_type": "code",
   "execution_count": 14,
   "id": "9bb6fefc",
   "metadata": {},
   "outputs": [
    {
     "name": "stdout",
     "output_type": "stream",
     "text": [
      "20 30 50\n",
      "50\n"
     ]
    }
   ],
   "source": [
    "a=20  \n",
    "b=30  \n",
    "c=50  \n",
    "print(a,b,c,end=\"\\n\")  \n",
    "print(c)  "
   ]
  },
  {
   "cell_type": "code",
   "execution_count": 15,
   "id": "687d5d80",
   "metadata": {},
   "outputs": [
    {
     "name": "stdout",
     "output_type": "stream",
     "text": [
      "20 30 50%"
     ]
    }
   ],
   "source": [
    "a=20  \n",
    "b=30  \n",
    "c=50  \n",
    "print(a,b,c,end=\"%\")"
   ]
  },
  {
   "cell_type": "code",
   "execution_count": 16,
   "id": "c6e32b29",
   "metadata": {},
   "outputs": [
    {
     "name": "stdout",
     "output_type": "stream",
     "text": [
      "enter 1st value20\n",
      "enter 2nd value30\n",
      "enter 3rd value45\n",
      "20,30,45%"
     ]
    }
   ],
   "source": [
    "a=input(\"enter 1st value\")  \n",
    "b=input(\"enter 2nd value\")  \n",
    "c=input(\"enter 3rd value\")  \n",
    "print(a,b,c,sep=\",\",end=\"%\")  "
   ]
  },
  {
   "cell_type": "markdown",
   "id": "25bea57b",
   "metadata": {},
   "source": [
    "### operators  \n",
    "- arithmetic operators(+,-,*,**,/,//,%)  \n",
    "    - output for the normal division is quotient  \n",
    "    - output for the int division or floor division is integer part of the quotient  \n",
    "    - output for the modulo division is remainder\n",
    "- assignment operators(=)  \n",
    "- comparision operators(<,>,<=,>=,==)  \n",
    "- logical operators(and or not)  \n",
    "- bitwise operators(&,|,^)  \n",
    "- identity operators(==),isnot(!=)  \n",
    "- membership oprators(in,notin)  "
   ]
  },
  {
   "cell_type": "markdown",
   "id": "d2bde1c4",
   "metadata": {},
   "source": [
    "### arithmetic operators"
   ]
  },
  {
   "cell_type": "code",
   "execution_count": 18,
   "id": "330ca566",
   "metadata": {},
   "outputs": [
    {
     "name": "stdout",
     "output_type": "stream",
     "text": [
      "addition 82\n",
      "subtraction 18\n",
      "multiplication 1600\n",
      "power 2328306436538696289062500000000000000000000000000000000\n",
      "division 1.5625\n",
      " int division or floor division 1\n",
      "modulo division 18\n"
     ]
    }
   ],
   "source": [
    "a=50  \n",
    "b=32  \n",
    "print(\"addition\",a+b)  \n",
    "print(\"subtraction\",a-b)  \n",
    "print(\"multiplication\",a*b)  \n",
    "print(\"power\",a**b)  \n",
    "print(\"division\",a/b)  \n",
    "print(\" int division or floor division\",a//b)  \n",
    "print(\"modulo division\",a%b)  "
   ]
  },
  {
   "cell_type": "markdown",
   "id": "f2aa0b8a",
   "metadata": {},
   "source": [
    "###  assignment operators  "
   ]
  },
  {
   "cell_type": "markdown",
   "id": "edfe3cdf",
   "metadata": {},
   "source": [
    "###  assignment operators  \n",
    "    - it represented with =  \n",
    "    - leftside value of the operator(=)is called as variable  \n",
    "    - rightside value of the variable(=)is called as value"
   ]
  },
  {
   "cell_type": "code",
   "execution_count": 20,
   "id": "92c8e1aa",
   "metadata": {},
   "outputs": [
    {
     "name": "stdout",
     "output_type": "stream",
     "text": [
      "20\n",
      "30\n"
     ]
    }
   ],
   "source": [
    "a=20  \n",
    "b=30  \n",
    "print(a)  \n",
    "print(b)  "
   ]
  },
  {
   "cell_type": "markdown",
   "id": "6573522b",
   "metadata": {},
   "source": [
    "### camparision operators"
   ]
  },
  {
   "cell_type": "code",
   "execution_count": 21,
   "id": "009bf022",
   "metadata": {},
   "outputs": [
    {
     "data": {
      "text/plain": [
       "False"
      ]
     },
     "execution_count": 21,
     "metadata": {},
     "output_type": "execute_result"
    }
   ],
   "source": [
    "2>5"
   ]
  },
  {
   "cell_type": "code",
   "execution_count": 22,
   "id": "da1997fa",
   "metadata": {},
   "outputs": [
    {
     "data": {
      "text/plain": [
       "True"
      ]
     },
     "execution_count": 22,
     "metadata": {},
     "output_type": "execute_result"
    }
   ],
   "source": [
    "2<6"
   ]
  },
  {
   "cell_type": "code",
   "execution_count": 25,
   "id": "c4bab7da",
   "metadata": {},
   "outputs": [
    {
     "name": "stdout",
     "output_type": "stream",
     "text": [
      "jessy\n"
     ]
    }
   ],
   "source": [
    "if 2>9 and 2<=6:  \n",
    "    print(\"print true or false\")  \n",
    "else:  \n",
    "    print(\"jessy\")"
   ]
  },
  {
   "cell_type": "markdown",
   "id": "3b1472ee",
   "metadata": {},
   "source": [
    "2>=7 "
   ]
  },
  {
   "cell_type": "code",
   "execution_count": 26,
   "id": "e3299544",
   "metadata": {},
   "outputs": [
    {
     "data": {
      "text/plain": [
       "False"
      ]
     },
     "execution_count": 26,
     "metadata": {},
     "output_type": "execute_result"
    }
   ],
   "source": [
    "2>=7"
   ]
  },
  {
   "cell_type": "code",
   "execution_count": 27,
   "id": "fef474b1",
   "metadata": {},
   "outputs": [
    {
     "data": {
      "text/plain": [
       "True"
      ]
     },
     "execution_count": 27,
     "metadata": {},
     "output_type": "execute_result"
    }
   ],
   "source": [
    "3<=5"
   ]
  },
  {
   "cell_type": "markdown",
   "id": "43756804",
   "metadata": {},
   "source": [
    "### logical operators  \n",
    "- and or not  \n",
    "- if all the inputs are true the output is true(and)  \n",
    "- if any of the input is true the output is true(or)  \n",
    "- opposite operation for the given one(not)"
   ]
  },
  {
   "cell_type": "code",
   "execution_count": 28,
   "id": "ae36cf07",
   "metadata": {},
   "outputs": [
    {
     "data": {
      "text/plain": [
       "False"
      ]
     },
     "execution_count": 28,
     "metadata": {},
     "output_type": "execute_result"
    }
   ],
   "source": [
    "2<5 and 3>6"
   ]
  },
  {
   "cell_type": "code",
   "execution_count": 29,
   "id": "b583cf35",
   "metadata": {},
   "outputs": [
    {
     "data": {
      "text/plain": [
       "False"
      ]
     },
     "execution_count": 29,
     "metadata": {},
     "output_type": "execute_result"
    }
   ],
   "source": [
    "2>5 and 3<6"
   ]
  },
  {
   "cell_type": "code",
   "execution_count": 30,
   "id": "50ccf0d4",
   "metadata": {},
   "outputs": [
    {
     "data": {
      "text/plain": [
       "True"
      ]
     },
     "execution_count": 30,
     "metadata": {},
     "output_type": "execute_result"
    }
   ],
   "source": [
    "3<9 and 4>0"
   ]
  },
  {
   "cell_type": "code",
   "execution_count": 31,
   "id": "770a066b",
   "metadata": {},
   "outputs": [
    {
     "data": {
      "text/plain": [
       "True"
      ]
     },
     "execution_count": 31,
     "metadata": {},
     "output_type": "execute_result"
    }
   ],
   "source": [
    "4<8 or 5>2"
   ]
  },
  {
   "cell_type": "code",
   "execution_count": 32,
   "id": "33b9e078",
   "metadata": {},
   "outputs": [
    {
     "data": {
      "text/plain": [
       "False"
      ]
     },
     "execution_count": 32,
     "metadata": {},
     "output_type": "execute_result"
    }
   ],
   "source": [
    "5>9 or 8<3"
   ]
  },
  {
   "cell_type": "code",
   "execution_count": 33,
   "id": "87f5d00e",
   "metadata": {},
   "outputs": [
    {
     "data": {
      "text/plain": [
       "False"
      ]
     },
     "execution_count": 33,
     "metadata": {},
     "output_type": "execute_result"
    }
   ],
   "source": [
    "a=100  \n",
    "not a"
   ]
  },
  {
   "cell_type": "markdown",
   "id": "5b499631",
   "metadata": {},
   "source": [
    "###  bitwise operators"
   ]
  },
  {
   "cell_type": "code",
   "execution_count": 37,
   "id": "80f91722",
   "metadata": {},
   "outputs": [
    {
     "data": {
      "text/plain": [
       "2"
      ]
     },
     "execution_count": 37,
     "metadata": {},
     "output_type": "execute_result"
    }
   ],
   "source": [
    "2 & 3  \n",
    "# 2- 0 0 1 0  \n",
    "# 3- 0 0 1 1  \n",
    "# ------------- \n",
    "#  - 0 0 1 0"
   ]
  },
  {
   "cell_type": "code",
   "execution_count": 35,
   "id": "79a71b17",
   "metadata": {},
   "outputs": [
    {
     "data": {
      "text/plain": [
       "7"
      ]
     },
     "execution_count": 35,
     "metadata": {},
     "output_type": "execute_result"
    }
   ],
   "source": [
    "3|4"
   ]
  },
  {
   "cell_type": "code",
   "execution_count": 38,
   "id": "0644be75",
   "metadata": {},
   "outputs": [
    {
     "data": {
      "text/plain": [
       "1"
      ]
     },
     "execution_count": 38,
     "metadata": {},
     "output_type": "execute_result"
    }
   ],
   "source": [
    "2^3"
   ]
  },
  {
   "cell_type": "code",
   "execution_count": 39,
   "id": "d69492dd",
   "metadata": {},
   "outputs": [
    {
     "data": {
      "text/plain": [
       "16"
      ]
     },
     "execution_count": 39,
     "metadata": {},
     "output_type": "execute_result"
    }
   ],
   "source": [
    "2<<3"
   ]
  },
  {
   "cell_type": "code",
   "execution_count": 40,
   "id": "6469cb66",
   "metadata": {},
   "outputs": [
    {
     "data": {
      "text/plain": [
       "0"
      ]
     },
     "execution_count": 40,
     "metadata": {},
     "output_type": "execute_result"
    }
   ],
   "source": [
    "2>>3"
   ]
  },
  {
   "cell_type": "markdown",
   "id": "7a3d085c",
   "metadata": {},
   "source": [
    "### identity operators"
   ]
  },
  {
   "cell_type": "code",
   "execution_count": 41,
   "id": "24f651b5",
   "metadata": {},
   "outputs": [
    {
     "name": "stderr",
     "output_type": "stream",
     "text": [
      "<>:1: SyntaxWarning: \"is\" with a literal. Did you mean \"==\"?\n",
      "<>:1: SyntaxWarning: \"is not\" with a literal. Did you mean \"!=\"?\n",
      "<>:1: SyntaxWarning: \"is\" with a literal. Did you mean \"==\"?\n",
      "<>:1: SyntaxWarning: \"is not\" with a literal. Did you mean \"!=\"?\n",
      "C:\\Users\\Lab\\AppData\\Local\\Temp/ipykernel_2020/1988167162.py:1: SyntaxWarning: \"is\" with a literal. Did you mean \"==\"?\n",
      "  a is 100 and a is not 100\n",
      "C:\\Users\\Lab\\AppData\\Local\\Temp/ipykernel_2020/1988167162.py:1: SyntaxWarning: \"is not\" with a literal. Did you mean \"!=\"?\n",
      "  a is 100 and a is not 100\n"
     ]
    },
    {
     "data": {
      "text/plain": [
       "False"
      ]
     },
     "execution_count": 41,
     "metadata": {},
     "output_type": "execute_result"
    }
   ],
   "source": [
    "a is 100 and a is not 100"
   ]
  },
  {
   "cell_type": "code",
   "execution_count": 42,
   "id": "d8ac840d",
   "metadata": {},
   "outputs": [
    {
     "data": {
      "text/plain": [
       "False"
      ]
     },
     "execution_count": 42,
     "metadata": {},
     "output_type": "execute_result"
    }
   ],
   "source": [
    "a==100 and a!=100"
   ]
  },
  {
   "cell_type": "markdown",
   "id": "3b2eebf6",
   "metadata": {},
   "source": [
    "## membership operators"
   ]
  },
  {
   "cell_type": "code",
   "execution_count": 43,
   "id": "72ad3d36",
   "metadata": {},
   "outputs": [
    {
     "data": {
      "text/plain": [
       "True"
      ]
     },
     "execution_count": 43,
     "metadata": {},
     "output_type": "execute_result"
    }
   ],
   "source": [
    "s=[1,2,3,4,5,6,7,8,9]  \n",
    "4 in s"
   ]
  },
  {
   "cell_type": "code",
   "execution_count": 44,
   "id": "83c17a1b",
   "metadata": {},
   "outputs": [
    {
     "data": {
      "text/plain": [
       "True"
      ]
     },
     "execution_count": 44,
     "metadata": {},
     "output_type": "execute_result"
    }
   ],
   "source": [
    "10 not in s"
   ]
  },
  {
   "cell_type": "code",
   "execution_count": 45,
   "id": "bbb1d82f",
   "metadata": {},
   "outputs": [
    {
     "data": {
      "text/plain": [
       "False"
      ]
     },
     "execution_count": 45,
     "metadata": {},
     "output_type": "execute_result"
    }
   ],
   "source": [
    "2 not in s"
   ]
  },
  {
   "cell_type": "code",
   "execution_count": 46,
   "id": "d5779e28",
   "metadata": {},
   "outputs": [
    {
     "data": {
      "text/plain": [
       "21"
      ]
     },
     "execution_count": 46,
     "metadata": {},
     "output_type": "execute_result"
    }
   ],
   "source": [
    "a=20  \n",
    "a=a+1  \n",
    "a"
   ]
  },
  {
   "cell_type": "code",
   "execution_count": 50,
   "id": "545e26d0",
   "metadata": {},
   "outputs": [],
   "source": [
    "a=45  \n",
    "# a+=1 ---->a=a+1  \n",
    "# a-=1 ---->a=a-1  \n",
    "# a*=1 ----->a=a*1  \n",
    "# a/=1 ----->a=a/1"
   ]
  },
  {
   "cell_type": "code",
   "execution_count": 51,
   "id": "58912a69",
   "metadata": {},
   "outputs": [
    {
     "data": {
      "text/plain": [
       "44"
      ]
     },
     "execution_count": 51,
     "metadata": {},
     "output_type": "execute_result"
    }
   ],
   "source": [
    "a=45  \n",
    "a=a-1  \n",
    "a"
   ]
  },
  {
   "cell_type": "code",
   "execution_count": 52,
   "id": "2891ba2c",
   "metadata": {},
   "outputs": [
    {
     "data": {
      "text/plain": [
       "45"
      ]
     },
     "execution_count": 52,
     "metadata": {},
     "output_type": "execute_result"
    }
   ],
   "source": [
    "a=45  \n",
    "a=a*1  \n",
    "a"
   ]
  },
  {
   "cell_type": "code",
   "execution_count": 53,
   "id": "2e80f747",
   "metadata": {},
   "outputs": [
    {
     "data": {
      "text/plain": [
       "45.0"
      ]
     },
     "execution_count": 53,
     "metadata": {},
     "output_type": "execute_result"
    }
   ],
   "source": [
    "a=45  \n",
    "a=a/1  \n",
    "a"
   ]
  },
  {
   "cell_type": "markdown",
   "id": "53d40cfc",
   "metadata": {},
   "source": [
    "### flow control  \n",
    "- conditional statements(if,else,elseif,nestedif)  \n",
    "- loops(for,while)  \n",
    "- break,return"
   ]
  },
  {
   "cell_type": "code",
   "execution_count": 54,
   "id": "4d6795d7",
   "metadata": {},
   "outputs": [
    {
     "ename": "SyntaxError",
     "evalue": "invalid syntax (Temp/ipykernel_2020/686736169.py, line 2)",
     "output_type": "error",
     "traceback": [
      "\u001b[1;36m  File \u001b[1;32m\"C:\\Users\\Lab\\AppData\\Local\\Temp/ipykernel_2020/686736169.py\"\u001b[1;36m, line \u001b[1;32m2\u001b[0m\n\u001b[1;33m    if(condition){\u001b[0m\n\u001b[1;37m                 ^\u001b[0m\n\u001b[1;31mSyntaxError\u001b[0m\u001b[1;31m:\u001b[0m invalid syntax\n"
     ]
    }
   ],
   "source": [
    "# c-language  \n",
    "if(condition){\n",
    "    print(a)\n",
    "}"
   ]
  },
  {
   "cell_type": "markdown",
   "id": "0cbcf024",
   "metadata": {},
   "source": [
    " ### conditional statements"
   ]
  },
  {
   "cell_type": "code",
   "execution_count": null,
   "id": "c2579654",
   "metadata": {},
   "outputs": [],
   "source": [
    "# if  \n",
    "if(condition):\n",
    "    statement1\n",
    "    statement2\n",
    "    statement3\n",
    "    ----------\n",
    "    statementn\n",
    "    "
   ]
  },
  {
   "cell_type": "code",
   "execution_count": null,
   "id": "018533c7",
   "metadata": {},
   "outputs": [],
   "source": [
    "# if-else  \n",
    "if(condition):\n",
    "    statement1\n",
    "    statement2\n",
    "    statement3\n",
    "    ----------\n",
    "    statementn\n",
    "else:\n",
    "    statement1\n",
    "    statement2\n",
    "    statement3\n",
    "    ---------\n",
    "    statementn"
   ]
  },
  {
   "cell_type": "code",
   "execution_count": 55,
   "id": "a562d1df",
   "metadata": {},
   "outputs": [],
   "source": [
    "if 2>3:\n",
    "    print(\"True\")\n",
    "    print(\"False\")"
   ]
  },
  {
   "cell_type": "code",
   "execution_count": 56,
   "id": "c1eba85e",
   "metadata": {},
   "outputs": [
    {
     "name": "stdout",
     "output_type": "stream",
     "text": [
      "False\n"
     ]
    }
   ],
   "source": [
    "if 2>3:\n",
    "    print(\"True\")\n",
    "else:\n",
    "    print(\"False\")"
   ]
  },
  {
   "cell_type": "code",
   "execution_count": 57,
   "id": "9aedd073",
   "metadata": {},
   "outputs": [
    {
     "name": "stdout",
     "output_type": "stream",
     "text": [
      "enter the number66\n",
      "even number\n"
     ]
    }
   ],
   "source": [
    "# given number is even or odd\n",
    "n=int(input(\"enter the number\"))\n",
    "if(n%2==0):\n",
    "    print(\"even number\")\n",
    "else:\n",
    "    print(\"odd number\")"
   ]
  },
  {
   "cell_type": "code",
   "execution_count": 59,
   "id": "808d62de",
   "metadata": {},
   "outputs": [
    {
     "name": "stdout",
     "output_type": "stream",
     "text": [
      "enter the value0\n",
      "zero number\n"
     ]
    }
   ],
   "source": [
    "# given number is zero or positive or negative\n",
    "n=int(input(\"enter the value\"))\n",
    "if(n==0):\n",
    "    print(\"zero number\")\n",
    "elif(n>0):\n",
    "    print(\"postive number\")\n",
    "else:\n",
    "    print(\"negative number\")"
   ]
  },
  {
   "cell_type": "code",
   "execution_count": 60,
   "id": "d983c8d0",
   "metadata": {},
   "outputs": [
    {
     "name": "stdout",
     "output_type": "stream",
     "text": [
      "enter the value42\n",
      "postive number\n"
     ]
    }
   ],
   "source": [
    "# given number is zero or positive or negative\n",
    "n=int(input(\"enter the value\"))\n",
    "if(n==0):\n",
    "    print(\"zero number\")\n",
    "elif(n>0):\n",
    "    print(\"postive number\")\n",
    "else:\n",
    "    print(\"negative number\")"
   ]
  },
  {
   "cell_type": "code",
   "execution_count": 61,
   "id": "fc97d5ad",
   "metadata": {},
   "outputs": [
    {
     "name": "stdout",
     "output_type": "stream",
     "text": [
      "enter the value-5\n",
      "negative number\n"
     ]
    }
   ],
   "source": [
    "# given number is zero or positive or negative\n",
    "n=int(input(\"enter the value\"))\n",
    "if(n==0):\n",
    "    print(\"zero number\")\n",
    "elif(n>0):\n",
    "    print(\"postive number\")\n",
    "else:\n",
    "    print(\"negative number\")"
   ]
  },
  {
   "cell_type": "code",
   "execution_count": 1,
   "id": "68e4ad04",
   "metadata": {},
   "outputs": [
    {
     "name": "stderr",
     "output_type": "stream",
     "text": [
      "<>:3: SyntaxWarning: \"is\" with a literal. Did you mean \"==\"?\n",
      "<>:3: SyntaxWarning: \"is not\" with a literal. Did you mean \"!=\"?\n",
      "<>:3: SyntaxWarning: \"is\" with a literal. Did you mean \"==\"?\n",
      "<>:3: SyntaxWarning: \"is not\" with a literal. Did you mean \"!=\"?\n"
     ]
    },
    {
     "name": "stdout",
     "output_type": "stream",
     "text": [
      "enter the number18\n",
      "valid number\n"
     ]
    },
    {
     "name": "stderr",
     "output_type": "stream",
     "text": [
      "C:\\Users\\Lab\\AppData\\Local\\Temp/ipykernel_5904/1076693378.py:3: SyntaxWarning: \"is\" with a literal. Did you mean \"==\"?\n",
      "  if a%2 is 0 and a%10 is not 0:\n",
      "C:\\Users\\Lab\\AppData\\Local\\Temp/ipykernel_5904/1076693378.py:3: SyntaxWarning: \"is not\" with a literal. Did you mean \"!=\"?\n",
      "  if a%2 is 0 and a%10 is not 0:\n"
     ]
    }
   ],
   "source": [
    "# number is divisible by 2 but not 10\n",
    "a=int(input(\"enter the number\"))\n",
    "if a%2 is 0 and a%10 is not 0:\n",
    "    print(\"valid number\")\n",
    "else:\n",
    "    print(\"invalid number\")"
   ]
  },
  {
   "cell_type": "markdown",
   "id": "f2ccfe8b",
   "metadata": {},
   "source": [
    "### range\n",
    "- syntax for the range is range(start,endvalue,step value)\n",
    "- starting value is inclusive and end value is exclusive"
   ]
  },
  {
   "cell_type": "code",
   "execution_count": null,
   "id": "035be380",
   "metadata": {},
   "outputs": [],
   "source": [
    "range(start,end,step)"
   ]
  },
  {
   "cell_type": "code",
   "execution_count": null,
   "id": "aa5cbb4b",
   "metadata": {},
   "outputs": [],
   "source": [
    "range(10,20,1)\n",
    "# 10,11,12,13,14,15,16,17,18,19\n",
    "range(20,30,2)\n",
    "# 20,22,,24,26,28\n",
    "range(20,41,5)\n",
    "# 20,25,30,35,40\n",
    "range(50)\n",
    "# consider as start value\n",
    "range(20,30)\n",
    "# consider start value and end value\n",
    "# reverse print\n",
    "range(10,1,-1)"
   ]
  },
  {
   "cell_type": "code",
   "execution_count": 2,
   "id": "b9d2c5c3",
   "metadata": {},
   "outputs": [
    {
     "data": {
      "text/plain": [
       "[10, 11, 12, 13, 14, 15, 16, 17, 18, 19]"
      ]
     },
     "execution_count": 2,
     "metadata": {},
     "output_type": "execute_result"
    }
   ],
   "source": [
    "list(range(10,20,1))"
   ]
  },
  {
   "cell_type": "code",
   "execution_count": 3,
   "id": "43e692c8",
   "metadata": {},
   "outputs": [
    {
     "data": {
      "text/plain": [
       "[20, 22, 24, 26, 28]"
      ]
     },
     "execution_count": 3,
     "metadata": {},
     "output_type": "execute_result"
    }
   ],
   "source": [
    "list(range(20,30,2))"
   ]
  },
  {
   "cell_type": "code",
   "execution_count": 4,
   "id": "8ce0a5d6",
   "metadata": {},
   "outputs": [
    {
     "data": {
      "text/plain": [
       "[20, 25, 30, 35, 40]"
      ]
     },
     "execution_count": 4,
     "metadata": {},
     "output_type": "execute_result"
    }
   ],
   "source": [
    "list(range(20,41,5))"
   ]
  },
  {
   "cell_type": "code",
   "execution_count": 7,
   "id": "c6b6c59e",
   "metadata": {},
   "outputs": [
    {
     "data": {
      "text/plain": [
       "[0, 1, 2, 3, 4, 5, 6, 7, 8, 9, 10, 11, 12, 13, 14]"
      ]
     },
     "execution_count": 7,
     "metadata": {},
     "output_type": "execute_result"
    }
   ],
   "source": [
    "list(range(15))"
   ]
  },
  {
   "cell_type": "code",
   "execution_count": 8,
   "id": "23371249",
   "metadata": {},
   "outputs": [
    {
     "data": {
      "text/plain": [
       "[20, 21, 22, 23, 24, 25, 26, 27, 28, 29]"
      ]
     },
     "execution_count": 8,
     "metadata": {},
     "output_type": "execute_result"
    }
   ],
   "source": [
    "list(range(20,30))"
   ]
  },
  {
   "cell_type": "code",
   "execution_count": 9,
   "id": "db78d99c",
   "metadata": {},
   "outputs": [
    {
     "data": {
      "text/plain": [
       "[10, 9, 8, 7, 6, 5, 4, 3, 2]"
      ]
     },
     "execution_count": 9,
     "metadata": {},
     "output_type": "execute_result"
    }
   ],
   "source": [
    "list(range(10,1,-1))"
   ]
  },
  {
   "cell_type": "code",
   "execution_count": null,
   "id": "ea02fca0",
   "metadata": {},
   "outputs": [],
   "source": []
  }
 ],
 "metadata": {
  "kernelspec": {
   "display_name": "Python 3 (ipykernel)",
   "language": "python",
   "name": "python3"
  },
  "language_info": {
   "codemirror_mode": {
    "name": "ipython",
    "version": 3
   },
   "file_extension": ".py",
   "mimetype": "text/x-python",
   "name": "python",
   "nbconvert_exporter": "python",
   "pygments_lexer": "ipython3",
   "version": "3.9.7"
  }
 },
 "nbformat": 4,
 "nbformat_minor": 5
}
