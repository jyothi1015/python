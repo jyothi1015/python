{
 "cells": [
  {
   "cell_type": "markdown",
   "id": "f90768ce",
   "metadata": {},
   "source": [
    "## file handling\n",
    "- file:file is a named location or memory used to store relative information\n",
    "    - .csv,.py,.html,.txt,.ipynb,mp4\n",
    "- filehandling:it allows to user to handle file\n",
    "- compared to other languages programming in file handling is easy in python\n",
    "- read and write files:along with the otherfiles handle options to work on file\n",
    "- steps of the handling\n",
    "    - openfile\n",
    "    - doing operations\n",
    "    - close a file\n",
    "    \n",
    "- open function()\n",
    "    - we use open fun()in python to open the file in read and write options\n",
    "    - to return a object we use in open fun() along 2 arguments that accept the file name and mode.whether read or write\n",
    "    - syntax::open(filename.mode)\n",
    "    \n",
    "- modes are three type\n",
    "    - read()---'r'---> to read a file\n",
    "      - file_variable.read(size)\n",
    "    - write()---'w'--->to write a file\n",
    "      - file_variable.write(data)\n",
    "    - append()---'a'---> to add a information to a file\n",
    "      - file_variabl.append(data)\n",
    "    \n",
    "- by default the file will be open as 'r' mode\n",
    "- close()\n",
    "    - it is used to close a file\n",
    "    - every time you have to close a file at the end of the operations.otherwise the changes will not be applicable\n",
    "    \n",
    "    "
   ]
  },
  {
   "cell_type": "code",
   "execution_count": 2,
   "id": "3f04cc11",
   "metadata": {},
   "outputs": [
    {
     "name": "stdout",
     "output_type": "stream",
     "text": [
      "successfully open\n"
     ]
    }
   ],
   "source": [
    "f=open(\"data.txt\",'r')\n",
    "if f:\n",
    "    print(\"successfully open\")\n",
    "else:\n",
    "        print(\"fail\")"
   ]
  },
  {
   "cell_type": "code",
   "execution_count": 3,
   "id": "3dd3c500",
   "metadata": {},
   "outputs": [
    {
     "name": "stdout",
     "output_type": "stream",
     "text": [
      "Good morning,welcome to python lab\n"
     ]
    }
   ],
   "source": [
    "# read\n",
    "f=open(\"data.txt\",'r')\n",
    "print(f.read())\n",
    "f.close()"
   ]
  },
  {
   "cell_type": "code",
   "execution_count": 4,
   "id": "9cc7d7d6",
   "metadata": {},
   "outputs": [
    {
     "name": "stdout",
     "output_type": "stream",
     "text": [
      "Good morning,welcome to python lab\n"
     ]
    }
   ],
   "source": [
    "# using with keyword automatically file will be closed\n",
    "with open(\"data.txt\") as f:\n",
    "    fr=f.read()\n",
    "    print(fr)\n"
   ]
  },
  {
   "cell_type": "code",
   "execution_count": 5,
   "id": "a70f7cf2",
   "metadata": {},
   "outputs": [
    {
     "name": "stdout",
     "output_type": "stream",
     "text": [
      "Good m\n"
     ]
    }
   ],
   "source": [
    "f=open(\"data.txt\",'r')\n",
    "print(f.read(6))\n",
    "f.close()"
   ]
  },
  {
   "cell_type": "code",
   "execution_count": 6,
   "id": "87ad7d79",
   "metadata": {},
   "outputs": [
    {
     "name": "stdout",
     "output_type": "stream",
     "text": [
      "18\n"
     ]
    }
   ],
   "source": [
    "f=open(\"data1.txt\",'w')\n",
    "fr=f.write(\"python programming\")\n",
    "print(fr)\n",
    "f.close()"
   ]
  },
  {
   "cell_type": "markdown",
   "id": "3920280a",
   "metadata": {},
   "source": [
    "## file handling methods\n",
    "- open()\n",
    "- read()\n",
    "- close()\n",
    "- write()\n",
    "- readline()\n",
    "- readlines()\n",
    "- seek()\n",
    "- tell()\n",
    "- Types of modes\n",
    "    - read()---'r'\n",
    "    - write()---'w'\n",
    "    - append()---'a'"
   ]
  },
  {
   "cell_type": "code",
   "execution_count": 2,
   "id": "7dfc3fac",
   "metadata": {},
   "outputs": [],
   "source": [
    "f=open(\"data.txt\")"
   ]
  },
  {
   "cell_type": "code",
   "execution_count": 3,
   "id": "3013a739",
   "metadata": {},
   "outputs": [],
   "source": [
    "info=f.read(5)"
   ]
  },
  {
   "cell_type": "code",
   "execution_count": 4,
   "id": "730a0c20",
   "metadata": {},
   "outputs": [
    {
     "name": "stdout",
     "output_type": "stream",
     "text": [
      "Good \n"
     ]
    }
   ],
   "source": [
    "print(info)"
   ]
  },
  {
   "cell_type": "code",
   "execution_count": 5,
   "id": "d9f5504b",
   "metadata": {},
   "outputs": [
    {
     "name": "stdout",
     "output_type": "stream",
     "text": [
      "morning,welcome to python lab\n"
     ]
    }
   ],
   "source": [
    "d=f.read()\n",
    "print(d)"
   ]
  },
  {
   "cell_type": "code",
   "execution_count": 6,
   "id": "759f66dd",
   "metadata": {},
   "outputs": [],
   "source": [
    "f.close()"
   ]
  },
  {
   "cell_type": "code",
   "execution_count": null,
   "id": "ba3ed12e",
   "metadata": {},
   "outputs": [],
   "source": [
    "# write mode()\n",
    "# it is used to write something in file\n",
    "# if file is not their directory,the file will be created and data will be written in that file"
   ]
  },
  {
   "cell_type": "code",
   "execution_count": 6,
   "id": "270121af",
   "metadata": {},
   "outputs": [],
   "source": [
    "fo=open('data.txt','w')"
   ]
  },
  {
   "cell_type": "code",
   "execution_count": 7,
   "id": "7e3e2c30",
   "metadata": {},
   "outputs": [
    {
     "data": {
      "text/plain": [
       "7"
      ]
     },
     "execution_count": 7,
     "metadata": {},
     "output_type": "execute_result"
    }
   ],
   "source": [
    "fo.write(\"gud bye\")"
   ]
  },
  {
   "cell_type": "code",
   "execution_count": 8,
   "id": "b3341dad",
   "metadata": {},
   "outputs": [
    {
     "data": {
      "text/plain": [
       "29"
      ]
     },
     "execution_count": 8,
     "metadata": {},
     "output_type": "execute_result"
    }
   ],
   "source": [
    "f=open('data.txt','a')\n",
    "fo.write(\" hello friends welcome to soc\")"
   ]
  },
  {
   "cell_type": "code",
   "execution_count": 9,
   "id": "2e83c108",
   "metadata": {},
   "outputs": [
    {
     "name": "stdout",
     "output_type": "stream",
     "text": [
      "<_io.TextIOWrapper name='data.txt' mode='a' encoding='cp1252'>\n"
     ]
    }
   ],
   "source": [
    "print(f)"
   ]
  },
  {
   "cell_type": "code",
   "execution_count": 11,
   "id": "ea5353ad",
   "metadata": {},
   "outputs": [
    {
     "name": "stdout",
     "output_type": "stream",
     "text": [
      "gud bye hello friends welcome to soc\n",
      "\n"
     ]
    }
   ],
   "source": [
    "fo=open(\"data.txt\",'r')\n",
    "s=fo.readline()\n",
    "print(s)\n",
    "t=fo.readline()\n",
    "print(t)"
   ]
  },
  {
   "cell_type": "code",
   "execution_count": 2,
   "id": "284899d5",
   "metadata": {},
   "outputs": [],
   "source": [
    "fo=open('data.txt','w')"
   ]
  },
  {
   "cell_type": "code",
   "execution_count": 3,
   "id": "61c5ed28",
   "metadata": {},
   "outputs": [
    {
     "data": {
      "text/plain": [
       "7"
      ]
     },
     "execution_count": 3,
     "metadata": {},
     "output_type": "execute_result"
    }
   ],
   "source": [
    "fo.write(\"gud bye\")"
   ]
  },
  {
   "cell_type": "code",
   "execution_count": 4,
   "id": "cbe88b73",
   "metadata": {},
   "outputs": [
    {
     "data": {
      "text/plain": [
       "29"
      ]
     },
     "execution_count": 4,
     "metadata": {},
     "output_type": "execute_result"
    }
   ],
   "source": [
    "f=open(\"data.txt\",'a')\n",
    "fo.write(\" hello friends welcome to soc\")"
   ]
  },
  {
   "cell_type": "code",
   "execution_count": 3,
   "id": "c4aed287",
   "metadata": {},
   "outputs": [
    {
     "name": "stdout",
     "output_type": "stream",
     "text": [
      "number of lines in the file: 1\n"
     ]
    }
   ],
   "source": [
    "with open(\"data.txt\",'r') as f:\n",
    "    no_of_lines=f.readlines()\n",
    "    print(\"number of lines in the file:\",len(no_of_lines))"
   ]
  },
  {
   "cell_type": "code",
   "execution_count": 4,
   "id": "41b387b1",
   "metadata": {},
   "outputs": [
    {
     "name": "stdout",
     "output_type": "stream",
     "text": [
      "number of lines in the file: 36\n"
     ]
    }
   ],
   "source": [
    "with open(\"data.txt\",'r') as f:\n",
    "    no_of_lines=f.readline()\n",
    "    print(\"number of lines in the file:\",len(no_of_lines))"
   ]
  },
  {
   "cell_type": "code",
   "execution_count": 5,
   "id": "f0a4ffd0",
   "metadata": {},
   "outputs": [
    {
     "name": "stdout",
     "output_type": "stream",
     "text": [
      "number of words are: 30\n"
     ]
    }
   ],
   "source": [
    "# no of words in the given file \n",
    "words=0\n",
    "for line in no_of_lines:\n",
    "    words_list=line.split()\n",
    "    words+=len(words_list)\n",
    "print(\"number of words are:\",words)"
   ]
  },
  {
   "cell_type": "code",
   "execution_count": null,
   "id": "f6284f84",
   "metadata": {},
   "outputs": [],
   "source": []
  }
 ],
 "metadata": {
  "kernelspec": {
   "display_name": "Python 3 (ipykernel)",
   "language": "python",
   "name": "python3"
  },
  "language_info": {
   "codemirror_mode": {
    "name": "ipython",
    "version": 3
   },
   "file_extension": ".py",
   "mimetype": "text/x-python",
   "name": "python",
   "nbconvert_exporter": "python",
   "pygments_lexer": "ipython3",
   "version": "3.9.7"
  }
 },
 "nbformat": 4,
 "nbformat_minor": 5
}
