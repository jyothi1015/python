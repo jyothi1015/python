{
 "cells": [
  {
   "cell_type": "markdown",
   "id": "ad33d782",
   "metadata": {},
   "source": [
    "### while  \n",
    "- its executes block or set of instructions until the condition is false  \n",
    "- while we dont the range  \n",
    "- executes faster than the for loop  \n",
    "- user incrementation"
   ]
  },
  {
   "cell_type": "code",
   "execution_count": null,
   "id": "b613e7b0",
   "metadata": {},
   "outputs": [],
   "source": [
    "#while syntax  \n",
    "initilization  \n",
    "while condition:  \n",
    "    statements\n",
    "    incr/decrement"
   ]
  },
  {
   "cell_type": "code",
   "execution_count": 2,
   "id": "6caa1702",
   "metadata": {},
   "outputs": [
    {
     "name": "stdout",
     "output_type": "stream",
     "text": [
      "vasavi college\n",
      "vasavi college\n",
      "vasavi college\n",
      "vasavi college\n",
      "vasavi college\n"
     ]
    }
   ],
   "source": [
    "n=1\n",
    "while n<=5:\n",
    "    print(\"vasavi college\")\n",
    "    n=n+1"
   ]
  },
  {
   "cell_type": "code",
   "execution_count": 3,
   "id": "4494d750",
   "metadata": {},
   "outputs": [
    {
     "name": "stdout",
     "output_type": "stream",
     "text": [
      "10 9 8 7 6 5 4 3 2 1 "
     ]
    }
   ],
   "source": [
    "n=10\n",
    "while n>=1:\n",
    "    print(n,end=\" \")\n",
    "    n=n-1"
   ]
  },
  {
   "cell_type": "code",
   "execution_count": 1,
   "id": "69dce0ae",
   "metadata": {},
   "outputs": [
    {
     "name": "stdout",
     "output_type": "stream",
     "text": [
      "1234\n",
      "\n",
      "digit count: 4\n"
     ]
    }
   ],
   "source": [
    "# i/p 1234\n",
    "# o/p digit count:4\n",
    "s=int(input())\n",
    "c=0\n",
    "while(s!=0): #1234!=0 123!=0 12!=0 1!=0\n",
    "    c=c+1\n",
    "    s=s//10\n",
    "print(\"\\ndigit count:\",c)"
   ]
  },
  {
   "cell_type": "code",
   "execution_count": 6,
   "id": "f046c108",
   "metadata": {},
   "outputs": [
    {
     "name": "stdout",
     "output_type": "stream",
     "text": [
      "212\n",
      "palindrome number\n"
     ]
    }
   ],
   "source": [
    "# check the given number is palindrome or not\n",
    "# 121--121\n",
    "# mom--mom\n",
    "n=int(input())\n",
    "temp=n\n",
    "rev=0\n",
    "while n!=0:\n",
    "    rem=n%10\n",
    "    rev=rev*10+rem\n",
    "    n=n//10\n",
    "if(temp==rev):\n",
    "    print(\"palindrome number\")\n",
    "else:\n",
    "     print(\"not palindrome number\")\n"
   ]
  },
  {
   "cell_type": "code",
   "execution_count": null,
   "id": "a40e6e18",
   "metadata": {},
   "outputs": [],
   "source": [
    "# syntax::Nested for loop\n",
    "for iter in range(start,end,step):\n",
    "    for iter in range(start,end,step):\n",
    "        statement1\n",
    "        statement2\n",
    "        ----------\n",
    "        statementn"
   ]
  },
  {
   "cell_type": "code",
   "execution_count": null,
   "id": "3380735d",
   "metadata": {},
   "outputs": [],
   "source": [
    "# matrix format\n",
    "- rows and columns\n",
    "- two dimensions\n",
    "    1 2 3\n",
    "    4 5 6"
   ]
  },
  {
   "cell_type": "code",
   "execution_count": 8,
   "id": "abd1c241",
   "metadata": {},
   "outputs": [
    {
     "name": "stdout",
     "output_type": "stream",
     "text": [
      "1 1 1 \n",
      "2 2 2 \n",
      "3 3 3 \n"
     ]
    }
   ],
   "source": [
    "# matrix\n",
    "for row in range(1,4):\n",
    "    for column in range(1,4):\n",
    "        print(row,end=\" \")\n",
    "    print()   "
   ]
  },
  {
   "cell_type": "code",
   "execution_count": 11,
   "id": "683f627c",
   "metadata": {},
   "outputs": [
    {
     "name": "stdout",
     "output_type": "stream",
     "text": [
      "* * * \n",
      "* * * \n",
      "* * * \n"
     ]
    }
   ],
   "source": [
    "for row in range(5,8):\n",
    "    for column in range(5,8):\n",
    "        print(\"*\",end=\" \")\n",
    "    print()"
   ]
  },
  {
   "cell_type": "code",
   "execution_count": 12,
   "id": "b0a4c76a",
   "metadata": {},
   "outputs": [
    {
     "name": "stdout",
     "output_type": "stream",
     "text": [
      "* \n",
      "* * \n",
      "* * * \n",
      "* * * * \n",
      "* * * * * \n"
     ]
    }
   ],
   "source": [
    "for row in range(1,6):\n",
    "    for column in range(1,row+1):\n",
    "        print(\"*\",end=\" \")\n",
    "    print()   "
   ]
  },
  {
   "cell_type": "code",
   "execution_count": 2,
   "id": "748cd9e5",
   "metadata": {},
   "outputs": [
    {
     "name": "stdout",
     "output_type": "stream",
     "text": [
      "* * * * * * \n",
      "* * * * * \n",
      "* * * * \n",
      "* * * \n",
      "* * \n",
      "* \n"
     ]
    }
   ],
   "source": [
    "for row in range(6,0,-1):\n",
    "    for column in range(1,row+1):\n",
    "        print(\"*\",end=\" \")\n",
    "    print()   "
   ]
  },
  {
   "cell_type": "code",
   "execution_count": 5,
   "id": "5a4630a4",
   "metadata": {},
   "outputs": [
    {
     "name": "stdout",
     "output_type": "stream",
     "text": [
      "1\n",
      "10\n",
      "2 3 5 7 "
     ]
    }
   ],
   "source": [
    "# 1-10\n",
    "# prime numbers:2,3,5,7\n",
    "st=int(input())\n",
    "en=int(input())\n",
    "for num in range(st,en+1):\n",
    "        c=0\n",
    "        for var in range(1,num+1):\n",
    "            if(num%var==0):\n",
    "                c=c+1\n",
    "        if(c==2):\n",
    "            print(num,end=\" \")"
   ]
  },
  {
   "cell_type": "markdown",
   "id": "350c5454",
   "metadata": {},
   "source": [
    "## nested while\n",
    "- loop inside another loop"
   ]
  },
  {
   "cell_type": "code",
   "execution_count": null,
   "id": "fb88b4cd",
   "metadata": {},
   "outputs": [],
   "source": [
    "# syntax\n",
    "initilizatyion\n",
    "while condition:\n",
    "    statements\n",
    "    incr/decrement\n",
    "    while condition:\n",
    "        statements\n",
    "        incr/decrement"
   ]
  },
  {
   "cell_type": "code",
   "execution_count": 6,
   "id": "013c3f64",
   "metadata": {},
   "outputs": [
    {
     "name": "stdout",
     "output_type": "stream",
     "text": [
      "1 * 1 = 1\n",
      "1 * 2 = 2\n",
      "1 * 3 = 3\n",
      "1 * 4 = 4\n",
      "1 * 5 = 5\n",
      "1 * 6 = 6\n",
      "1 * 7 = 7\n",
      "1 * 8 = 8\n",
      "1 * 9 = 9\n",
      "1 * 10 = 10\n",
      "\n",
      "2 * 1 = 2\n",
      "2 * 2 = 4\n",
      "2 * 3 = 6\n",
      "2 * 4 = 8\n",
      "2 * 5 = 10\n",
      "2 * 6 = 12\n",
      "2 * 7 = 14\n",
      "2 * 8 = 16\n",
      "2 * 9 = 18\n",
      "2 * 10 = 20\n",
      "\n",
      "3 * 1 = 3\n",
      "3 * 2 = 6\n",
      "3 * 3 = 9\n",
      "3 * 4 = 12\n",
      "3 * 5 = 15\n",
      "3 * 6 = 18\n",
      "3 * 7 = 21\n",
      "3 * 8 = 24\n",
      "3 * 9 = 27\n",
      "3 * 10 = 30\n",
      "\n",
      "4 * 1 = 4\n",
      "4 * 2 = 8\n",
      "4 * 3 = 12\n",
      "4 * 4 = 16\n",
      "4 * 5 = 20\n",
      "4 * 6 = 24\n",
      "4 * 7 = 28\n",
      "4 * 8 = 32\n",
      "4 * 9 = 36\n",
      "4 * 10 = 40\n",
      "\n",
      "5 * 1 = 5\n",
      "5 * 2 = 10\n",
      "5 * 3 = 15\n",
      "5 * 4 = 20\n",
      "5 * 5 = 25\n",
      "5 * 6 = 30\n",
      "5 * 7 = 35\n",
      "5 * 8 = 40\n",
      "5 * 9 = 45\n",
      "5 * 10 = 50\n",
      "\n",
      "6 * 1 = 6\n",
      "6 * 2 = 12\n",
      "6 * 3 = 18\n",
      "6 * 4 = 24\n",
      "6 * 5 = 30\n",
      "6 * 6 = 36\n",
      "6 * 7 = 42\n",
      "6 * 8 = 48\n",
      "6 * 9 = 54\n",
      "6 * 10 = 60\n",
      "\n",
      "7 * 1 = 7\n",
      "7 * 2 = 14\n",
      "7 * 3 = 21\n",
      "7 * 4 = 28\n",
      "7 * 5 = 35\n",
      "7 * 6 = 42\n",
      "7 * 7 = 49\n",
      "7 * 8 = 56\n",
      "7 * 9 = 63\n",
      "7 * 10 = 70\n",
      "\n",
      "8 * 1 = 8\n",
      "8 * 2 = 16\n",
      "8 * 3 = 24\n",
      "8 * 4 = 32\n",
      "8 * 5 = 40\n",
      "8 * 6 = 48\n",
      "8 * 7 = 56\n",
      "8 * 8 = 64\n",
      "8 * 9 = 72\n",
      "8 * 10 = 80\n",
      "\n",
      "9 * 1 = 9\n",
      "9 * 2 = 18\n",
      "9 * 3 = 27\n",
      "9 * 4 = 36\n",
      "9 * 5 = 45\n",
      "9 * 6 = 54\n",
      "9 * 7 = 63\n",
      "9 * 8 = 72\n",
      "9 * 9 = 81\n",
      "9 * 10 = 90\n",
      "\n",
      "10 * 1 = 10\n",
      "10 * 2 = 20\n",
      "10 * 3 = 30\n",
      "10 * 4 = 40\n",
      "10 * 5 = 50\n",
      "10 * 6 = 60\n",
      "10 * 7 = 70\n",
      "10 * 8 = 80\n",
      "10 * 9 = 90\n",
      "10 * 10 = 100\n",
      "\n"
     ]
    }
   ],
   "source": [
    "# 1 to 10 tables\n",
    "i=1\n",
    "while i<=10:\n",
    "    j=1\n",
    "    while j<=10:\n",
    "        print(i,\"*\",j,\"=\",i*j)\n",
    "        j+=1\n",
    "    print()\n",
    "    i+=1"
   ]
  },
  {
   "cell_type": "code",
   "execution_count": 7,
   "id": "baa0f887",
   "metadata": {},
   "outputs": [
    {
     "name": "stdout",
     "output_type": "stream",
     "text": [
      "1 * = 1\n",
      "1 * = 2\n",
      "1 * = 3\n",
      "1 * = 4\n",
      "1 * = 5\n",
      "1 * = 6\n",
      "1 * = 7\n",
      "1 * = 8\n",
      "1 * = 9\n",
      "1 * = 10\n",
      "\n",
      "2 * = 2\n",
      "2 * = 4\n",
      "2 * = 6\n",
      "2 * = 8\n",
      "2 * = 10\n",
      "2 * = 12\n",
      "2 * = 14\n",
      "2 * = 16\n",
      "2 * = 18\n",
      "2 * = 20\n",
      "\n",
      "3 * = 3\n",
      "3 * = 6\n",
      "3 * = 9\n",
      "3 * = 12\n",
      "3 * = 15\n",
      "3 * = 18\n",
      "3 * = 21\n",
      "3 * = 24\n",
      "3 * = 27\n",
      "3 * = 30\n",
      "\n",
      "4 * = 4\n",
      "4 * = 8\n",
      "4 * = 12\n",
      "4 * = 16\n",
      "4 * = 20\n",
      "4 * = 24\n",
      "4 * = 28\n",
      "4 * = 32\n",
      "4 * = 36\n",
      "4 * = 40\n",
      "\n",
      "5 * = 5\n",
      "5 * = 10\n",
      "5 * = 15\n",
      "5 * = 20\n",
      "5 * = 25\n",
      "5 * = 30\n",
      "5 * = 35\n",
      "5 * = 40\n",
      "5 * = 45\n",
      "5 * = 50\n",
      "\n",
      "6 * = 6\n",
      "6 * = 12\n",
      "6 * = 18\n",
      "6 * = 24\n",
      "6 * = 30\n",
      "6 * = 36\n",
      "6 * = 42\n",
      "6 * = 48\n",
      "6 * = 54\n",
      "6 * = 60\n",
      "\n",
      "7 * = 7\n",
      "7 * = 14\n",
      "7 * = 21\n",
      "7 * = 28\n",
      "7 * = 35\n",
      "7 * = 42\n",
      "7 * = 49\n",
      "7 * = 56\n",
      "7 * = 63\n",
      "7 * = 70\n",
      "\n",
      "8 * = 8\n",
      "8 * = 16\n",
      "8 * = 24\n",
      "8 * = 32\n",
      "8 * = 40\n",
      "8 * = 48\n",
      "8 * = 56\n",
      "8 * = 64\n",
      "8 * = 72\n",
      "8 * = 80\n",
      "\n",
      "9 * = 9\n",
      "9 * = 18\n",
      "9 * = 27\n",
      "9 * = 36\n",
      "9 * = 45\n",
      "9 * = 54\n",
      "9 * = 63\n",
      "9 * = 72\n",
      "9 * = 81\n",
      "9 * = 90\n",
      "\n",
      "10 * = 10\n",
      "10 * = 20\n",
      "10 * = 30\n",
      "10 * = 40\n",
      "10 * = 50\n",
      "10 * = 60\n",
      "10 * = 70\n",
      "10 * = 80\n",
      "10 * = 90\n",
      "10 * = 100\n",
      "\n"
     ]
    }
   ],
   "source": [
    "# print 1-10 tables by using for loop\n",
    "for i in range (1,11):\n",
    "    for j in range (1,11):\n",
    "        print(i,\"*\",\"=\",i*j)\n",
    "        j+=1\n",
    "    print()\n",
    "    i+=1"
   ]
  },
  {
   "cell_type": "markdown",
   "id": "2fe20de1",
   "metadata": {},
   "source": [
    "## jump statements\n",
    "- we called as unconditional jumps\n",
    "    - break\n",
    "    - continue\n",
    "    - pass"
   ]
  },
  {
   "cell_type": "markdown",
   "id": "f3901114",
   "metadata": {},
   "source": [
    "###  break\n",
    "- Terminates the current loop statements\n",
    "- break is a keyword"
   ]
  },
  {
   "cell_type": "code",
   "execution_count": 12,
   "id": "b09b3d18",
   "metadata": {},
   "outputs": [
    {
     "name": "stdout",
     "output_type": "stream",
     "text": [
      "p\n",
      "y\n",
      "t\n",
      "h\n"
     ]
    }
   ],
   "source": [
    "for i in\"python\":\n",
    "    if i=='o':\n",
    "        break\n",
    "    print(i)       "
   ]
  },
  {
   "cell_type": "code",
   "execution_count": 2,
   "id": "ac6f8f46",
   "metadata": {},
   "outputs": [
    {
     "name": "stdout",
     "output_type": "stream",
     "text": [
      "2\n",
      "3\n",
      "4\n",
      "5\n"
     ]
    }
   ],
   "source": [
    "i=1\n",
    "while i<=10:\n",
    "    i+=1\n",
    "    if i==6:\n",
    "        break\n",
    "    print(i)      "
   ]
  },
  {
   "cell_type": "markdown",
   "id": "a3c68841",
   "metadata": {},
   "source": [
    "## continue\n",
    "- it skips only current iteration and continue the next iteration\n",
    "- continue is also a keyword"
   ]
  },
  {
   "cell_type": "code",
   "execution_count": 2,
   "id": "538ea87a",
   "metadata": {},
   "outputs": [
    {
     "name": "stdout",
     "output_type": "stream",
     "text": [
      "0\n",
      "1\n",
      "2\n",
      "3\n",
      "4\n",
      "5\n",
      "7\n",
      "8\n",
      "9\n"
     ]
    }
   ],
   "source": [
    "for i in range (10):\n",
    "    if i==6:\n",
    "        continue\n",
    "    print(i)"
   ]
  },
  {
   "cell_type": "code",
   "execution_count": 3,
   "id": "c74afbd4",
   "metadata": {},
   "outputs": [
    {
     "name": "stdout",
     "output_type": "stream",
     "text": [
      "2\n",
      "3\n",
      "4\n",
      "5\n",
      "7\n",
      "8\n",
      "9\n",
      "10\n",
      "11\n"
     ]
    }
   ],
   "source": [
    "i=1\n",
    "while i<=10:\n",
    "    i+=1\n",
    "    if i==6:\n",
    "        continue\n",
    "    print(i)     "
   ]
  },
  {
   "cell_type": "code",
   "execution_count": 4,
   "id": "bd1fb386",
   "metadata": {},
   "outputs": [
    {
     "name": "stdout",
     "output_type": "stream",
     "text": [
      "1\n",
      "3\n",
      "5\n",
      "7\n",
      "9\n"
     ]
    }
   ],
   "source": [
    "# print odd numbers using even number condition using continue statement\n",
    "for i in range (1,10):\n",
    "    if i%2==0:\n",
    "        continue\n",
    "    print(i)"
   ]
  },
  {
   "cell_type": "markdown",
   "id": "abde4ec9",
   "metadata": {},
   "source": [
    "## pass\n",
    "- it is a keyword\n",
    "- when we need the condition scientifically correct need to change another operation \n",
    "- it is a null operation\n",
    "- pass statement we use to create empty classes also"
   ]
  },
  {
   "cell_type": "code",
   "execution_count": 8,
   "id": "89483287",
   "metadata": {},
   "outputs": [
    {
     "name": "stdout",
     "output_type": "stream",
     "text": [
      "p\n",
      "y\n",
      "t\n",
      "h\n",
      "o\n",
      "pass executed\n",
      "n\n"
     ]
    }
   ],
   "source": [
    "s=\"python\"\n",
    "for i in s:\n",
    "    if i=='n':\n",
    "        pass\n",
    "        print(\"pass executed\")\n",
    "    print(i)"
   ]
  },
  {
   "cell_type": "markdown",
   "id": "51f036d2",
   "metadata": {},
   "source": [
    "## string\n",
    "- string is a group of characters\n",
    "- string is a derived data type and immutable\n",
    "- all string returns a new value"
   ]
  },
  {
   "cell_type": "code",
   "execution_count": 15,
   "id": "62071097",
   "metadata": {},
   "outputs": [
    {
     "name": "stdout",
     "output_type": "stream",
     "text": [
      "<class 'str'>\n"
     ]
    }
   ],
   "source": [
    "a=\"vasavicollege\"\n",
    "print(type(a))"
   ]
  },
  {
   "cell_type": "code",
   "execution_count": 16,
   "id": "449d985a",
   "metadata": {},
   "outputs": [
    {
     "name": "stdout",
     "output_type": "stream",
     "text": [
      "13\n"
     ]
    }
   ],
   "source": [
    "print(len(a))"
   ]
  },
  {
   "cell_type": "code",
   "execution_count": 17,
   "id": "9a079f1d",
   "metadata": {},
   "outputs": [
    {
     "name": "stdout",
     "output_type": "stream",
     "text": [
      "a\n",
      "v\n",
      "['a', 'a', 'c', 'e', 'e', 'g', 'i', 'l', 'l', 'o', 's', 'v', 'v']\n"
     ]
    }
   ],
   "source": [
    "print(min(a))\n",
    "print(max(a))\n",
    "print(sorted(a))"
   ]
  },
  {
   "cell_type": "code",
   "execution_count": 18,
   "id": "a5f6b5b7",
   "metadata": {},
   "outputs": [
    {
     "name": "stdout",
     "output_type": "stream",
     "text": [
      "jyothikadhana lakshmi\n",
      "jyothika dhana lakshmi\n"
     ]
    },
    {
     "ename": "TypeError",
     "evalue": "can't multiply sequence by non-int of type 'str'",
     "output_type": "error",
     "traceback": [
      "\u001b[1;31m---------------------------------------------------------------------------\u001b[0m",
      "\u001b[1;31mTypeError\u001b[0m                                 Traceback (most recent call last)",
      "\u001b[1;32m~\\AppData\\Local\\Temp/ipykernel_8028/2194897670.py\u001b[0m in \u001b[0;36m<module>\u001b[1;34m\u001b[0m\n\u001b[0;32m      3\u001b[0m \u001b[0mprint\u001b[0m\u001b[1;33m(\u001b[0m\u001b[0ms\u001b[0m\u001b[1;33m+\u001b[0m\u001b[0ms1\u001b[0m\u001b[1;33m)\u001b[0m\u001b[1;33m\u001b[0m\u001b[1;33m\u001b[0m\u001b[0m\n\u001b[0;32m      4\u001b[0m \u001b[0mprint\u001b[0m\u001b[1;33m(\u001b[0m\u001b[0ms\u001b[0m\u001b[1;33m,\u001b[0m\u001b[0ms1\u001b[0m\u001b[1;33m)\u001b[0m\u001b[1;33m\u001b[0m\u001b[1;33m\u001b[0m\u001b[0m\n\u001b[1;32m----> 5\u001b[1;33m \u001b[0mprint\u001b[0m\u001b[1;33m(\u001b[0m\u001b[0ms\u001b[0m\u001b[1;33m*\u001b[0m\u001b[0ms1\u001b[0m\u001b[1;33m)\u001b[0m\u001b[1;33m\u001b[0m\u001b[1;33m\u001b[0m\u001b[0m\n\u001b[0m",
      "\u001b[1;31mTypeError\u001b[0m: can't multiply sequence by non-int of type 'str'"
     ]
    }
   ],
   "source": [
    "s=\"jyothika\"\n",
    "s1=\"dhana lakshmi\"\n",
    "print(s+s1)\n",
    "print(s,s1)\n",
    "print(s*s1)"
   ]
  },
  {
   "cell_type": "code",
   "execution_count": 1,
   "id": "33cee9bd",
   "metadata": {},
   "outputs": [
    {
     "name": "stdout",
     "output_type": "stream",
     "text": [
      "15\n",
      "p\n",
      "n\n",
      "p\n",
      "p\n",
      "o\n",
      "python workshop\n",
      "pohskrow nohtyp\n",
      "pyth\n",
      "n works\n",
      "\n"
     ]
    }
   ],
   "source": [
    "# slicing syntax::(start:end:step)\n",
    "# positive indexing(left to right)\n",
    "# negative indexing(right to left)\n",
    "s=\"python workshop\"\n",
    "print(len(s))\n",
    "print(s[0])\n",
    "print(s[5])\n",
    "print(s[14])\n",
    "print(s[-1])\n",
    "print(s[-2])\n",
    "print(s[::])\n",
    "print(s[::-1])\n",
    "print(s[0:4])\n",
    "print(s[5:12])\n",
    "print(s[-1:-5])"
   ]
  },
  {
   "cell_type": "code",
   "execution_count": 1,
   "id": "09bebdea",
   "metadata": {},
   "outputs": [
    {
     "data": {
      "text/plain": [
       "['__add__',\n",
       " '__class__',\n",
       " '__contains__',\n",
       " '__delattr__',\n",
       " '__dir__',\n",
       " '__doc__',\n",
       " '__eq__',\n",
       " '__format__',\n",
       " '__ge__',\n",
       " '__getattribute__',\n",
       " '__getitem__',\n",
       " '__getnewargs__',\n",
       " '__gt__',\n",
       " '__hash__',\n",
       " '__init__',\n",
       " '__init_subclass__',\n",
       " '__iter__',\n",
       " '__le__',\n",
       " '__len__',\n",
       " '__lt__',\n",
       " '__mod__',\n",
       " '__mul__',\n",
       " '__ne__',\n",
       " '__new__',\n",
       " '__reduce__',\n",
       " '__reduce_ex__',\n",
       " '__repr__',\n",
       " '__rmod__',\n",
       " '__rmul__',\n",
       " '__setattr__',\n",
       " '__sizeof__',\n",
       " '__str__',\n",
       " '__subclasshook__',\n",
       " 'capitalize',\n",
       " 'casefold',\n",
       " 'center',\n",
       " 'count',\n",
       " 'encode',\n",
       " 'endswith',\n",
       " 'expandtabs',\n",
       " 'find',\n",
       " 'format',\n",
       " 'format_map',\n",
       " 'index',\n",
       " 'isalnum',\n",
       " 'isalpha',\n",
       " 'isascii',\n",
       " 'isdecimal',\n",
       " 'isdigit',\n",
       " 'isidentifier',\n",
       " 'islower',\n",
       " 'isnumeric',\n",
       " 'isprintable',\n",
       " 'isspace',\n",
       " 'istitle',\n",
       " 'isupper',\n",
       " 'join',\n",
       " 'ljust',\n",
       " 'lower',\n",
       " 'lstrip',\n",
       " 'maketrans',\n",
       " 'partition',\n",
       " 'removeprefix',\n",
       " 'removesuffix',\n",
       " 'replace',\n",
       " 'rfind',\n",
       " 'rindex',\n",
       " 'rjust',\n",
       " 'rpartition',\n",
       " 'rsplit',\n",
       " 'rstrip',\n",
       " 'split',\n",
       " 'splitlines',\n",
       " 'startswith',\n",
       " 'strip',\n",
       " 'swapcase',\n",
       " 'title',\n",
       " 'translate',\n",
       " 'upper',\n",
       " 'zfill']"
      ]
     },
     "execution_count": 1,
     "metadata": {},
     "output_type": "execute_result"
    }
   ],
   "source": [
    "dir(str)"
   ]
  },
  {
   "cell_type": "code",
   "execution_count": 3,
   "id": "61e88b3c",
   "metadata": {},
   "outputs": [
    {
     "name": "stdout",
     "output_type": "stream",
     "text": [
      "i am from \n",
      "apssdc\n",
      "i am jessy\n"
     ]
    }
   ],
   "source": [
    "s='vasavi college'\n",
    "s=\"vasavi college\"\n",
    "s1='''i am from \n",
    "apssdc\n",
    "i am jessy'''\n",
    "s2=\"\"\"enginerring department\n",
    "cse branch\"\"\"\n",
    "print(s1)"
   ]
  },
  {
   "cell_type": "code",
   "execution_count": 4,
   "id": "f96a65c1",
   "metadata": {},
   "outputs": [
    {
     "name": "stdout",
     "output_type": "stream",
     "text": [
      "enginerring department\n",
      "cse branch\n"
     ]
    }
   ],
   "source": [
    "print(s2)"
   ]
  },
  {
   "cell_type": "code",
   "execution_count": 5,
   "id": "e10f1ffd",
   "metadata": {},
   "outputs": [
    {
     "name": "stdout",
     "output_type": "stream",
     "text": [
      "33\n"
     ]
    }
   ],
   "source": [
    "print(len(s2))"
   ]
  },
  {
   "cell_type": "code",
   "execution_count": 6,
   "id": "79d758e5",
   "metadata": {},
   "outputs": [
    {
     "name": "stdout",
     "output_type": "stream",
     "text": [
      "28\n"
     ]
    }
   ],
   "source": [
    "print(len(s1))"
   ]
  },
  {
   "cell_type": "code",
   "execution_count": 11,
   "id": "31c8f154",
   "metadata": {},
   "outputs": [
    {
     "name": "stdout",
     "output_type": "stream",
     "text": [
      "Jyothika\n",
      "JYOTHIKA\n",
      "jyothika\n"
     ]
    }
   ],
   "source": [
    "s=\"Jyothika\"\n",
    "print(s)\n",
    "print(s.upper())\n",
    "print(s.lower())"
   ]
  },
  {
   "cell_type": "code",
   "execution_count": 13,
   "id": "557ceaec",
   "metadata": {},
   "outputs": [
    {
     "name": "stdout",
     "output_type": "stream",
     "text": [
      "faculty development program\n",
      "Faculty Development Program\n"
     ]
    }
   ],
   "source": [
    "m=\"faculty development program\"\n",
    "print(m)\n",
    "print(m.title())"
   ]
  },
  {
   "cell_type": "code",
   "execution_count": 3,
   "id": "2cc853ca",
   "metadata": {},
   "outputs": [
    {
     "name": "stdout",
     "output_type": "stream",
     "text": [
      "True True False\n"
     ]
    }
   ],
   "source": [
    "s2=\"workshop\"\n",
    "s3=\"WORKSHOP\"\n",
    "s4=\"workshop\"\n",
    "print(s2.islower(),s3.isupper(),s4.isupper())"
   ]
  },
  {
   "cell_type": "code",
   "execution_count": 4,
   "id": "9cd71dc0",
   "metadata": {},
   "outputs": [
    {
     "data": {
      "text/plain": [
       "False"
      ]
     },
     "execution_count": 4,
     "metadata": {},
     "output_type": "execute_result"
    }
   ],
   "source": [
    "s7=\"india is my company\"\n",
    "s7.istitle()"
   ]
  },
  {
   "cell_type": "code",
   "execution_count": 5,
   "id": "4f373513",
   "metadata": {},
   "outputs": [
    {
     "data": {
      "text/plain": [
       "True"
      ]
     },
     "execution_count": 5,
     "metadata": {},
     "output_type": "execute_result"
    }
   ],
   "source": [
    "s8=\" \"\n",
    "s8.isspace()"
   ]
  },
  {
   "cell_type": "code",
   "execution_count": 6,
   "id": "0be59a80",
   "metadata": {},
   "outputs": [
    {
     "data": {
      "text/plain": [
       "False"
      ]
     },
     "execution_count": 6,
     "metadata": {},
     "output_type": "execute_result"
    }
   ],
   "source": [
    "# isdigit -which is used to identify the digits in agiven string \n",
    "# isalpha-which returns true,alphabets present in a given string\n",
    "r=\"python3\"\n",
    "r.isalpha()"
   ]
  },
  {
   "cell_type": "code",
   "execution_count": 7,
   "id": "52c2c0ef",
   "metadata": {},
   "outputs": [
    {
     "data": {
      "text/plain": [
       "False"
      ]
     },
     "execution_count": 7,
     "metadata": {},
     "output_type": "execute_result"
    }
   ],
   "source": [
    "r.isdigit()"
   ]
  },
  {
   "cell_type": "code",
   "execution_count": 8,
   "id": "962fd170",
   "metadata": {},
   "outputs": [
    {
     "data": {
      "text/plain": [
       "True"
      ]
     },
     "execution_count": 8,
     "metadata": {},
     "output_type": "execute_result"
    }
   ],
   "source": [
    "j=\"123456\"\n",
    "j.isdigit()"
   ]
  },
  {
   "cell_type": "code",
   "execution_count": 9,
   "id": "b55fce62",
   "metadata": {},
   "outputs": [
    {
     "data": {
      "text/plain": [
       "True"
      ]
     },
     "execution_count": 9,
     "metadata": {},
     "output_type": "execute_result"
    }
   ],
   "source": [
    "s=\"123456\"\n",
    "s.isalnum()"
   ]
  },
  {
   "cell_type": "code",
   "execution_count": 10,
   "id": "918deffb",
   "metadata": {},
   "outputs": [
    {
     "data": {
      "text/plain": [
       "['python3',\n",
       " 'is',\n",
       " 'latest',\n",
       " 'version',\n",
       " 'and',\n",
       " 'today',\n",
       " 'is',\n",
       " 'thursday',\n",
       " 'i',\n",
       " 'am',\n",
       " 'dealing',\n",
       " 'python',\n",
       " 'programming',\n",
       " 'workshop']"
      ]
     },
     "execution_count": 10,
     "metadata": {},
     "output_type": "execute_result"
    }
   ],
   "source": [
    "s=\"python3 is latest version and today is thursday i am dealing python programming workshop\"\n",
    "s.split()"
   ]
  },
  {
   "cell_type": "code",
   "execution_count": 13,
   "id": "daff9221",
   "metadata": {},
   "outputs": [
    {
     "data": {
      "text/plain": [
       "['python3',\n",
       " 'is',\n",
       " 'latest',\n",
       " 'version',\n",
       " 'and',\n",
       " 'today',\n",
       " 'is',\n",
       " 'thursday',\n",
       " 'i',\n",
       " 'am',\n",
       " 'dealing',\n",
       " 'python',\n",
       " 'programming',\n",
       " 'workshop']"
      ]
     },
     "execution_count": 13,
     "metadata": {},
     "output_type": "execute_result"
    }
   ],
   "source": [
    "s=\"python3@is@latest@version@and@today@is@thursday@i@am@dealing@python@programming@workshop\"\n",
    "s.split('@')"
   ]
  },
  {
   "cell_type": "code",
   "execution_count": 1,
   "id": "8f707615",
   "metadata": {},
   "outputs": [
    {
     "data": {
      "text/plain": [
       "['py', 'hon3 is la', 'es', ' version ']"
      ]
     },
     "execution_count": 1,
     "metadata": {},
     "output_type": "execute_result"
    }
   ],
   "source": [
    "s=\"python3 is latest version \"\n",
    "s.split('t')"
   ]
  },
  {
   "cell_type": "code",
   "execution_count": 4,
   "id": "848a7108",
   "metadata": {},
   "outputs": [
    {
     "name": "stdout",
     "output_type": "stream",
     "text": [
      " jYotHIka\n"
     ]
    }
   ],
   "source": [
    "s=\"JyOThiKA\"\n",
    "s2=' '\n",
    "for i in s:\n",
    "    if i.islower():\n",
    "        s2 +=i.upper()\n",
    "    else:\n",
    "        s2  +=i.lower()\n",
    "print(s2)        "
   ]
  },
  {
   "cell_type": "code",
   "execution_count": 5,
   "id": "50ac53b4",
   "metadata": {},
   "outputs": [
    {
     "data": {
      "text/plain": [
       "'jYotHIka'"
      ]
     },
     "execution_count": 5,
     "metadata": {},
     "output_type": "execute_result"
    }
   ],
   "source": [
    "#swapcase\n",
    "s.swapcase()"
   ]
  },
  {
   "cell_type": "code",
   "execution_count": 9,
   "id": "e30bbded",
   "metadata": {},
   "outputs": [
    {
     "data": {
      "text/plain": [
       "'python3 is latest version and today is thursday i am learning python programming workshop'"
      ]
     },
     "execution_count": 9,
     "metadata": {},
     "output_type": "execute_result"
    }
   ],
   "source": [
    "s=\"python3 is latest version and today is thursday i am learning python programming workshop\"\n",
    "s"
   ]
  },
  {
   "cell_type": "code",
   "execution_count": 7,
   "id": "d35b88a4",
   "metadata": {},
   "outputs": [
    {
     "data": {
      "text/plain": [
       "7"
      ]
     },
     "execution_count": 7,
     "metadata": {},
     "output_type": "execute_result"
    }
   ],
   "source": [
    "#count:: to know the number of occurences\n",
    "s.count('a')"
   ]
  },
  {
   "cell_type": "code",
   "execution_count": 8,
   "id": "1f59c717",
   "metadata": {},
   "outputs": [
    {
     "data": {
      "text/plain": [
       "2"
      ]
     },
     "execution_count": 8,
     "metadata": {},
     "output_type": "execute_result"
    }
   ],
   "source": [
    "s.index('t') # searching starts from the beginning"
   ]
  },
  {
   "cell_type": "code",
   "execution_count": 10,
   "id": "9eea332f",
   "metadata": {},
   "outputs": [
    {
     "data": {
      "text/plain": [
       "64"
      ]
     },
     "execution_count": 10,
     "metadata": {},
     "output_type": "execute_result"
    }
   ],
   "source": [
    "s.rindex('t') # searching starts from ending"
   ]
  },
  {
   "cell_type": "code",
   "execution_count": 11,
   "id": "f277f7a7",
   "metadata": {},
   "outputs": [
    {
     "data": {
      "text/plain": [
       "2"
      ]
     },
     "execution_count": 11,
     "metadata": {},
     "output_type": "execute_result"
    }
   ],
   "source": [
    "# find -- # it will return index position of that character\n",
    "s.find('t')"
   ]
  },
  {
   "cell_type": "code",
   "execution_count": 12,
   "id": "d096c3d2",
   "metadata": {},
   "outputs": [
    {
     "data": {
      "text/plain": [
       "8"
      ]
     },
     "execution_count": 12,
     "metadata": {},
     "output_type": "execute_result"
    }
   ],
   "source": [
    "s.index('is')"
   ]
  },
  {
   "cell_type": "code",
   "execution_count": 13,
   "id": "7235b386",
   "metadata": {},
   "outputs": [
    {
     "data": {
      "text/plain": [
       "'hello vasavi college'"
      ]
     },
     "execution_count": 13,
     "metadata": {},
     "output_type": "execute_result"
    }
   ],
   "source": [
    "# replace-used to replace the old character\n",
    "# strip-used to remove white space by default\n",
    "d=\"bye vasavi college\"\n",
    "d.replace('bye','hello')"
   ]
  },
  {
   "cell_type": "code",
   "execution_count": 17,
   "id": "e1d2e942",
   "metadata": {},
   "outputs": [
    {
     "name": "stdout",
     "output_type": "stream",
     "text": [
      "   hello   sdc    \n"
     ]
    }
   ],
   "source": [
    "d=\"   hello   sdc    \"\n",
    "print(d)"
   ]
  },
  {
   "cell_type": "code",
   "execution_count": 18,
   "id": "6a7ff00d",
   "metadata": {},
   "outputs": [
    {
     "data": {
      "text/plain": [
       "'hello   sdc'"
      ]
     },
     "execution_count": 18,
     "metadata": {},
     "output_type": "execute_result"
    }
   ],
   "source": [
    "d.strip()"
   ]
  },
  {
   "cell_type": "code",
   "execution_count": 19,
   "id": "b093647c",
   "metadata": {},
   "outputs": [
    {
     "data": {
      "text/plain": [
       "'hello   sdc    '"
      ]
     },
     "execution_count": 19,
     "metadata": {},
     "output_type": "execute_result"
    }
   ],
   "source": [
    "d.lstrip()"
   ]
  },
  {
   "cell_type": "code",
   "execution_count": 20,
   "id": "afe9a136",
   "metadata": {},
   "outputs": [
    {
     "data": {
      "text/plain": [
       "'hello   sdc'"
      ]
     },
     "execution_count": 20,
     "metadata": {},
     "output_type": "execute_result"
    }
   ],
   "source": [
    "d.strip()"
   ]
  },
  {
   "cell_type": "code",
   "execution_count": 1,
   "id": "7a949c72",
   "metadata": {},
   "outputs": [
    {
     "data": {
      "text/plain": [
       "'s@a@t@u@r@d@a@y'"
      ]
     },
     "execution_count": 1,
     "metadata": {},
     "output_type": "execute_result"
    }
   ],
   "source": [
    "# join\n",
    "# center\n",
    "# startswith\n",
    "# endswith\n",
    "s=\"saturday\"\n",
    "'@'.join(s)"
   ]
  },
  {
   "cell_type": "code",
   "execution_count": 4,
   "id": "c639b1f2",
   "metadata": {},
   "outputs": [
    {
     "data": {
      "text/plain": [
       "'s.a.t.u.r.d.a.y'"
      ]
     },
     "execution_count": 4,
     "metadata": {},
     "output_type": "execute_result"
    }
   ],
   "source": [
    "s=\"saturday\"\n",
    "'.'.join(s)"
   ]
  },
  {
   "cell_type": "code",
   "execution_count": 5,
   "id": "38eee82a",
   "metadata": {},
   "outputs": [
    {
     "data": {
      "text/plain": [
       "'saturday'"
      ]
     },
     "execution_count": 5,
     "metadata": {},
     "output_type": "execute_result"
    }
   ],
   "source": [
    "s.center(1)"
   ]
  },
  {
   "cell_type": "code",
   "execution_count": 6,
   "id": "028a53a8",
   "metadata": {},
   "outputs": [
    {
     "data": {
      "text/plain": [
       "'00saturday'"
      ]
     },
     "execution_count": 6,
     "metadata": {},
     "output_type": "execute_result"
    }
   ],
   "source": [
    "s.zfill(10)"
   ]
  },
  {
   "cell_type": "code",
   "execution_count": 7,
   "id": "ca89cd11",
   "metadata": {},
   "outputs": [
    {
     "data": {
      "text/plain": [
       "'today is third day of python '"
      ]
     },
     "execution_count": 7,
     "metadata": {},
     "output_type": "execute_result"
    }
   ],
   "source": [
    "s2=\"today is third day of python \"\n",
    "len(s2)\n",
    "s2.zfill(21)"
   ]
  },
  {
   "cell_type": "code",
   "execution_count": 8,
   "id": "40afcb1f",
   "metadata": {},
   "outputs": [
    {
     "data": {
      "text/plain": [
       "True"
      ]
     },
     "execution_count": 8,
     "metadata": {},
     "output_type": "execute_result"
    }
   ],
   "source": [
    "s2.startswith('to')"
   ]
  },
  {
   "cell_type": "code",
   "execution_count": 9,
   "id": "1b6de034",
   "metadata": {},
   "outputs": [
    {
     "data": {
      "text/plain": [
       "False"
      ]
     },
     "execution_count": 9,
     "metadata": {},
     "output_type": "execute_result"
    }
   ],
   "source": [
    "s2.startswith('day')"
   ]
  },
  {
   "cell_type": "code",
   "execution_count": 10,
   "id": "6df280b5",
   "metadata": {},
   "outputs": [
    {
     "data": {
      "text/plain": [
       "False"
      ]
     },
     "execution_count": 10,
     "metadata": {},
     "output_type": "execute_result"
    }
   ],
   "source": [
    "s2.startswith('end')"
   ]
  },
  {
   "cell_type": "markdown",
   "id": "524d016d",
   "metadata": {},
   "source": [
    "# data structures\n",
    "- List\n",
    "    - list in one of the data structure in python\n",
    "    - list in mutable\n",
    "    - represented with []\n",
    "    - List in mutable\n",
    "- Tuple\n",
    "- Dictionaries \n",
    "- Dt are two types:\n",
    "     - Immutable\n",
    "        - we can't change it once it declared.\n",
    "        - ex:string,tuple\n",
    "     - Mutable\n",
    "         - we can change at any time after its declaration\n",
    "         - ex:list,dictionaries"
   ]
  },
  {
   "cell_type": "code",
   "execution_count": 11,
   "id": "41992fa9",
   "metadata": {},
   "outputs": [
    {
     "name": "stdout",
     "output_type": "stream",
     "text": [
      "[3, 6, 7, 9]\n"
     ]
    }
   ],
   "source": [
    "li=[3,6,7,9]\n",
    "print(li)"
   ]
  },
  {
   "cell_type": "code",
   "execution_count": 12,
   "id": "bffe9ecd",
   "metadata": {},
   "outputs": [
    {
     "data": {
      "text/plain": [
       "4"
      ]
     },
     "execution_count": 12,
     "metadata": {},
     "output_type": "execute_result"
    }
   ],
   "source": [
    "len(li)"
   ]
  },
  {
   "cell_type": "code",
   "execution_count": 13,
   "id": "8e69e483",
   "metadata": {},
   "outputs": [
    {
     "name": "stdout",
     "output_type": "stream",
     "text": [
      "length of the list 4\n",
      "max one of the list 9\n",
      "min of the list 3\n"
     ]
    }
   ],
   "source": [
    "print(\"length of the list\",len(li))\n",
    "print(\"max one of the list\",max(li))\n",
    "print(\"min of the list\",min(li))"
   ]
  },
  {
   "cell_type": "code",
   "execution_count": 2,
   "id": "6d5f042e",
   "metadata": {},
   "outputs": [],
   "source": [
    "a=['grapes',3,6,34.7]\n",
    "b=[13,33,'today',7]"
   ]
  },
  {
   "cell_type": "code",
   "execution_count": 3,
   "id": "7462e84c",
   "metadata": {},
   "outputs": [
    {
     "data": {
      "text/plain": [
       "['grapes', 3, 6, 34.7, 13, 33, 'today', 7]"
      ]
     },
     "execution_count": 3,
     "metadata": {},
     "output_type": "execute_result"
    }
   ],
   "source": [
    "a+b # concatination"
   ]
  },
  {
   "cell_type": "code",
   "execution_count": 4,
   "id": "aa29bbe0",
   "metadata": {},
   "outputs": [
    {
     "data": {
      "text/plain": [
       "[13, 33, 'today', 7, 'grapes', 3, 6, 34.7]"
      ]
     },
     "execution_count": 4,
     "metadata": {},
     "output_type": "execute_result"
    }
   ],
   "source": [
    "b+a"
   ]
  },
  {
   "cell_type": "code",
   "execution_count": 5,
   "id": "93c8e2db",
   "metadata": {},
   "outputs": [
    {
     "data": {
      "text/plain": [
       "['grapes', 3, 6, 34.7, 'grapes', 3, 6, 34.7, 'grapes', 3, 6, 34.7]"
      ]
     },
     "execution_count": 5,
     "metadata": {},
     "output_type": "execute_result"
    }
   ],
   "source": [
    "a*3 # repetation"
   ]
  },
  {
   "cell_type": "code",
   "execution_count": 6,
   "id": "41c74a10",
   "metadata": {},
   "outputs": [
    {
     "data": {
      "text/plain": [
       "['grapes',\n",
       " 3,\n",
       " 6,\n",
       " 34.7,\n",
       " 13,\n",
       " 33,\n",
       " 'today',\n",
       " 7,\n",
       " 'grapes',\n",
       " 3,\n",
       " 6,\n",
       " 34.7,\n",
       " 13,\n",
       " 33,\n",
       " 'today',\n",
       " 7]"
      ]
     },
     "execution_count": 6,
     "metadata": {},
     "output_type": "execute_result"
    }
   ],
   "source": [
    "(a+b)*2"
   ]
  },
  {
   "cell_type": "code",
   "execution_count": 7,
   "id": "e0f4d389",
   "metadata": {},
   "outputs": [
    {
     "data": {
      "text/plain": [
       "True"
      ]
     },
     "execution_count": 7,
     "metadata": {},
     "output_type": "execute_result"
    }
   ],
   "source": [
    "'grapes' in a"
   ]
  },
  {
   "cell_type": "code",
   "execution_count": 8,
   "id": "cd3670da",
   "metadata": {},
   "outputs": [
    {
     "data": {
      "text/plain": [
       "True"
      ]
     },
     "execution_count": 8,
     "metadata": {},
     "output_type": "execute_result"
    }
   ],
   "source": [
    "'today' not in a"
   ]
  },
  {
   "cell_type": "code",
   "execution_count": 9,
   "id": "3b9bae3a",
   "metadata": {},
   "outputs": [
    {
     "data": {
      "text/plain": [
       "False"
      ]
     },
     "execution_count": 9,
     "metadata": {},
     "output_type": "execute_result"
    }
   ],
   "source": [
    "'grapes'not in a"
   ]
  },
  {
   "cell_type": "code",
   "execution_count": 10,
   "id": "fb854b12",
   "metadata": {},
   "outputs": [
    {
     "data": {
      "text/plain": [
       "'valli'"
      ]
     },
     "execution_count": 10,
     "metadata": {},
     "output_type": "execute_result"
    }
   ],
   "source": [
    "names=['jessy','dhana','divya','valli','mahi','snehaja']\n",
    "names[3]"
   ]
  },
  {
   "cell_type": "code",
   "execution_count": 11,
   "id": "657fc244",
   "metadata": {},
   "outputs": [
    {
     "data": {
      "text/plain": [
       "'jessy'"
      ]
     },
     "execution_count": 11,
     "metadata": {},
     "output_type": "execute_result"
    }
   ],
   "source": [
    "names[0]"
   ]
  },
  {
   "cell_type": "code",
   "execution_count": 12,
   "id": "fc35057a",
   "metadata": {},
   "outputs": [
    {
     "data": {
      "text/plain": [
       "'snehaja'"
      ]
     },
     "execution_count": 12,
     "metadata": {},
     "output_type": "execute_result"
    }
   ],
   "source": [
    "names[5]"
   ]
  },
  {
   "cell_type": "code",
   "execution_count": 13,
   "id": "74823fe3",
   "metadata": {},
   "outputs": [
    {
     "data": {
      "text/plain": [
       "['jessy', 'dhana', 'divya']"
      ]
     },
     "execution_count": 13,
     "metadata": {},
     "output_type": "execute_result"
    }
   ],
   "source": [
    "names[:3]"
   ]
  },
  {
   "cell_type": "code",
   "execution_count": 14,
   "id": "e2a59b1a",
   "metadata": {},
   "outputs": [
    {
     "data": {
      "text/plain": [
       "'j'"
      ]
     },
     "execution_count": 14,
     "metadata": {},
     "output_type": "execute_result"
    }
   ],
   "source": [
    "s='jyothi'\n",
    "s[0]"
   ]
  },
  {
   "cell_type": "code",
   "execution_count": 15,
   "id": "7bd5f14c",
   "metadata": {},
   "outputs": [
    {
     "data": {
      "text/plain": [
       "'jyo'"
      ]
     },
     "execution_count": 15,
     "metadata": {},
     "output_type": "execute_result"
    }
   ],
   "source": [
    "s[:3]"
   ]
  },
  {
   "cell_type": "code",
   "execution_count": 18,
   "id": "7ddf8328",
   "metadata": {},
   "outputs": [
    {
     "data": {
      "text/plain": [
       "'thi'"
      ]
     },
     "execution_count": 18,
     "metadata": {},
     "output_type": "execute_result"
    }
   ],
   "source": [
    "s[3:8]"
   ]
  },
  {
   "cell_type": "code",
   "execution_count": 19,
   "id": "a418235f",
   "metadata": {},
   "outputs": [
    {
     "data": {
      "text/plain": [
       "'thi'"
      ]
     },
     "execution_count": 19,
     "metadata": {},
     "output_type": "execute_result"
    }
   ],
   "source": [
    "s[3:]"
   ]
  },
  {
   "cell_type": "code",
   "execution_count": 2,
   "id": "69feaa7a",
   "metadata": {},
   "outputs": [],
   "source": [
    "li1=['vasavi','college','students','hostel']"
   ]
  },
  {
   "cell_type": "code",
   "execution_count": 3,
   "id": "1a39bba8",
   "metadata": {},
   "outputs": [
    {
     "data": {
      "text/plain": [
       "['students', 'hostel']"
      ]
     },
     "execution_count": 3,
     "metadata": {},
     "output_type": "execute_result"
    }
   ],
   "source": [
    "li1[2:]"
   ]
  },
  {
   "cell_type": "code",
   "execution_count": 4,
   "id": "51089b23",
   "metadata": {},
   "outputs": [
    {
     "data": {
      "text/plain": [
       "['vasavi', 'college']"
      ]
     },
     "execution_count": 4,
     "metadata": {},
     "output_type": "execute_result"
    }
   ],
   "source": [
    "li1[:2]"
   ]
  },
  {
   "cell_type": "code",
   "execution_count": 5,
   "id": "b8294ebf",
   "metadata": {},
   "outputs": [
    {
     "data": {
      "text/plain": [
       "['students', 'hostel']"
      ]
     },
     "execution_count": 5,
     "metadata": {},
     "output_type": "execute_result"
    }
   ],
   "source": [
    "li1[2:5]"
   ]
  },
  {
   "cell_type": "code",
   "execution_count": null,
   "id": "89c9637b",
   "metadata": {},
   "outputs": [],
   "source": []
  }
 ],
 "metadata": {
  "kernelspec": {
   "display_name": "Python 3 (ipykernel)",
   "language": "python",
   "name": "python3"
  },
  "language_info": {
   "codemirror_mode": {
    "name": "ipython",
    "version": 3
   },
   "file_extension": ".py",
   "mimetype": "text/x-python",
   "name": "python",
   "nbconvert_exporter": "python",
   "pygments_lexer": "ipython3",
   "version": "3.9.7"
  }
 },
 "nbformat": 4,
 "nbformat_minor": 5
}
