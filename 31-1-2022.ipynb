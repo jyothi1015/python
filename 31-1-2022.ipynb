{
 "cells": [
  {
   "cell_type": "code",
   "execution_count": 1,
   "id": "26d6114b",
   "metadata": {},
   "outputs": [
    {
     "name": "stdout",
     "output_type": "stream",
     "text": [
      "welcome to python lab\n"
     ]
    }
   ],
   "source": [
    "print(\"welcome to python lab\")\n"
   ]
  },
  {
   "cell_type": "markdown",
   "id": "5d7b117e",
   "metadata": {},
   "source": [
    "# Hi friends\n",
    "## Hi friends\n",
    "### Hi friends\n",
    "#### hi friends\n",
    "##### Hi friends\n",
    "###### Hi friends"
   ]
  },
  {
   "cell_type": "markdown",
   "id": "dec5e76a",
   "metadata": {},
   "source": [
    "*apssdc*"
   ]
  },
  {
   "cell_type": "markdown",
   "id": "1deb7687",
   "metadata": {},
   "source": [
    "*** apssdc&vasavi***"
   ]
  },
  {
   "cell_type": "markdown",
   "id": "b4c8322a",
   "metadata": {},
   "source": [
    "I am jyothika   \n",
    "I am studying b.tech 2nd year  "
   ]
  },
  {
   "cell_type": "markdown",
   "id": "d94f0a6a",
   "metadata": {},
   "source": [
    "+ one\n",
    "- two\n",
    "* three\n",
    "    + five\n",
    "    - six\n",
    "    * seven\n",
    "        + eight\n",
    "        - nine\n",
    "        * zero"
   ]
  },
  {
   "cell_type": "markdown",
   "id": "97cf99d9",
   "metadata": {},
   "source": [
    "## orderlist and sublist\n",
    "- 1.jyothika\n",
    "- 2.dhana\n",
    "- 3.divya"
   ]
  },
  {
   "cell_type": "markdown",
   "id": "129a118b",
   "metadata": {},
   "source": [
    "## comments\n",
    "- user readable information\n",
    "- comment doesnot execute\n",
    "- mentioned in '#'\n",
    "- for multiple line comment mention in the formation of \" \""
   ]
  },
  {
   "cell_type": "markdown",
   "id": "1f625a98",
   "metadata": {},
   "source": [
    "## variable\n",
    "- which is used to storing the data\n",
    "- variable start with char,underscore\n",
    "- couldnot start with nums,special symbols,keywords"
   ]
  },
  {
   "cell_type": "markdown",
   "id": "588bf702",
   "metadata": {},
   "source": [
    "## datatype\n",
    "- int(all integer values)\n",
    "- float(integer vth decimal values)\n",
    "- str(combination of the characters)\n",
    "- complex(number vth real and imaginary part)\n",
    "- boolen(true,false conditions)\n"
   ]
  },
  {
   "cell_type": "code",
   "execution_count": 5,
   "id": "4dec42a2",
   "metadata": {},
   "outputs": [
    {
     "data": {
      "text/plain": [
       "5463345"
      ]
     },
     "execution_count": 5,
     "metadata": {},
     "output_type": "execute_result"
    }
   ],
   "source": [
    "python=5463345\n",
    "python"
   ]
  },
  {
   "cell_type": "code",
   "execution_count": 6,
   "id": "e86b79ec",
   "metadata": {},
   "outputs": [],
   "source": [
    "a=987\n",
    "b=786.9\n",
    "c=\"apssdc\"\n",
    "d='j'\n",
    "e='1+2j'\n",
    "f=1+2j\n",
    "g=True"
   ]
  },
  {
   "cell_type": "code",
   "execution_count": 7,
   "id": "6b7aef39",
   "metadata": {},
   "outputs": [
    {
     "name": "stdout",
     "output_type": "stream",
     "text": [
      "<class 'int'>\n",
      "<class 'float'>\n",
      "<class 'str'>\n",
      "<class 'str'>\n",
      "<class 'str'>\n",
      "<class 'complex'>\n",
      "<class 'bool'>\n"
     ]
    }
   ],
   "source": [
    "print(type(a))\n",
    "print(type(b))\n",
    "print(type(c))\n",
    "print(type(d))\n",
    "print(type(e))\n",
    "print(type(f))\n",
    "print(type(g))"
   ]
  },
  {
   "cell_type": "code",
   "execution_count": 8,
   "id": "f79c67a1",
   "metadata": {},
   "outputs": [
    {
     "name": "stdout",
     "output_type": "stream",
     "text": [
      "<class 'int'>\n"
     ]
    }
   ],
   "source": [
    "_abc=567\n",
    "print(type(_abc))"
   ]
  },
  {
   "cell_type": "code",
   "execution_count": 9,
   "id": "21270099",
   "metadata": {},
   "outputs": [
    {
     "name": "stdout",
     "output_type": "stream",
     "text": [
      "<class 'str'>\n",
      "567\n"
     ]
    }
   ],
   "source": [
    "z=str(_abc)\n",
    "print(type(z))\n",
    "print(z)"
   ]
  },
  {
   "cell_type": "code",
   "execution_count": 10,
   "id": "fe8be0fb",
   "metadata": {},
   "outputs": [
    {
     "name": "stdout",
     "output_type": "stream",
     "text": [
      "<class 'float'>\n",
      "567.0\n"
     ]
    }
   ],
   "source": [
    "z=float(_abc)\n",
    "print(type(z))\n",
    "print(z)"
   ]
  },
  {
   "cell_type": "code",
   "execution_count": 11,
   "id": "58c1c141",
   "metadata": {},
   "outputs": [
    {
     "name": "stdout",
     "output_type": "stream",
     "text": [
      "<class 'complex'>\n",
      "(567+0j)\n"
     ]
    }
   ],
   "source": [
    "z=complex(_abc)\n",
    "print(type(z))\n",
    "print(z)"
   ]
  },
  {
   "cell_type": "code",
   "execution_count": 12,
   "id": "42b932c2",
   "metadata": {},
   "outputs": [
    {
     "name": "stdout",
     "output_type": "stream",
     "text": [
      "<class 'str'>\n",
      "jessy\n"
     ]
    }
   ],
   "source": [
    "abc=\"jessy\"\n",
    "z=str(abc)\n",
    "print(type(z))\n",
    "print(z)"
   ]
  },
  {
   "cell_type": "code",
   "execution_count": 14,
   "id": "b9d0afe0",
   "metadata": {},
   "outputs": [
    {
     "name": "stdout",
     "output_type": "stream",
     "text": [
      "<class 'int'>\n",
      "12345\n"
     ]
    }
   ],
   "source": [
    "abc=\"12345\"\n",
    "z=int(abc)\n",
    "print(type(z))\n",
    "print(z)"
   ]
  },
  {
   "cell_type": "code",
   "execution_count": 15,
   "id": "af27219a",
   "metadata": {},
   "outputs": [
    {
     "name": "stdout",
     "output_type": "stream",
     "text": [
      "<class 'int'>\n",
      "12345\n"
     ]
    }
   ],
   "source": [
    "z=int(abc)\n",
    "print(type(z))\n",
    "print(z)"
   ]
  },
  {
   "cell_type": "code",
   "execution_count": 16,
   "id": "7520a455",
   "metadata": {},
   "outputs": [
    {
     "name": "stdout",
     "output_type": "stream",
     "text": [
      "<class 'complex'>\n",
      "(1+2j)\n"
     ]
    }
   ],
   "source": [
    "a=\"1+2j\"\n",
    "z=complex(a)\n",
    "print(type(z))\n",
    "print(z)"
   ]
  },
  {
   "cell_type": "code",
   "execution_count": null,
   "id": "81fa5b34",
   "metadata": {},
   "outputs": [],
   "source": []
  }
 ],
 "metadata": {
  "kernelspec": {
   "display_name": "Python 3 (ipykernel)",
   "language": "python",
   "name": "python3"
  },
  "language_info": {
   "codemirror_mode": {
    "name": "ipython",
    "version": 3
   },
   "file_extension": ".py",
   "mimetype": "text/x-python",
   "name": "python",
   "nbconvert_exporter": "python",
   "pygments_lexer": "ipython3",
   "version": "3.9.7"
  }
 },
 "nbformat": 4,
 "nbformat_minor": 5
}
